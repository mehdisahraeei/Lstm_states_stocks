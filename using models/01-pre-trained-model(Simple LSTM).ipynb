{
 "cells": [
  {
   "cell_type": "markdown",
   "metadata": {
    "id": "4gsu2VOXn02j"
   },
   "source": [
    "# Using pre trained model(Simple LSTM)\n",
    "- developer: mehdi sahraei\n",
    "- [link github](https://github.com/mehdisahraeei)"
   ]
  },
  {
   "cell_type": "markdown",
   "metadata": {},
   "source": [
    "### Importing"
   ]
  },
  {
   "cell_type": "code",
   "execution_count": 2,
   "metadata": {
    "id": "M3C4TjYDwDx4"
   },
   "outputs": [],
   "source": [
    "import pandas as pd\n",
    "import matplotlib.pyplot as plt\n",
    "import numpy as np\n",
    "import math\n",
    "import tensorflow as tf\n",
    "from sklearn.preprocessing import MinMaxScaler"
   ]
  },
  {
   "cell_type": "markdown",
   "metadata": {},
   "source": [
    "### loading model"
   ]
  },
  {
   "cell_type": "code",
   "execution_count": 16,
   "metadata": {
    "colab": {
     "base_uri": "https://localhost:8080/"
    },
    "id": "i8qVa0eIz18z",
    "outputId": "fa169231-15a2-440d-9497-7dd1c1cb99c4"
   },
   "outputs": [],
   "source": [
    "# loading model\n",
    "model = tf.keras.models.load_model('save-data-simple')"
   ]
  },
  {
   "cell_type": "markdown",
   "metadata": {
    "id": "SZm0jQgkB5sY"
   },
   "source": [
    "### new testing\n",
    "- we must change dim"
   ]
  },
  {
   "cell_type": "code",
   "execution_count": 49,
   "metadata": {},
   "outputs": [
    {
     "data": {
      "text/plain": [
       "(5, 1)"
      ]
     },
     "execution_count": 49,
     "metadata": {},
     "output_type": "execute_result"
    }
   ],
   "source": [
    "test_norm = np.array([520210, 528210, 527430, 537450, 549740])\n",
    "test_norm = test_norm.astype('float128')\n",
    "test_norm = test_norm.reshape(-1,1)\n",
    "test_norm.shape"
   ]
  },
  {
   "cell_type": "code",
   "execution_count": 50,
   "metadata": {},
   "outputs": [
    {
     "name": "stdout",
     "output_type": "stream",
     "text": [
      "[[0.        ]\n",
      " [0.27091094]\n",
      " [0.24449712]\n",
      " [0.58381307]\n",
      " [1.        ]] \n",
      "\n",
      "(5, 1)\n"
     ]
    }
   ],
   "source": [
    "scaler = MinMaxScaler(feature_range = (0,1))\n",
    "test_norm = scaler.fit_transform(test_norm)\n",
    "print(test_norm[:5],'\\n')\n",
    "print(test_norm.shape)"
   ]
  },
  {
   "cell_type": "code",
   "execution_count": 51,
   "metadata": {
    "colab": {
     "base_uri": "https://localhost:8080/"
    },
    "id": "HNmLoQrbkoH0",
    "outputId": "02f960c0-4251-4928-dab8-c329d98688e1"
   },
   "outputs": [
    {
     "data": {
      "text/plain": [
       "(1, 5, 1)"
      ]
     },
     "execution_count": 51,
     "metadata": {},
     "output_type": "execute_result"
    }
   ],
   "source": [
    "test_ = array([0.        , 0.01619433, 0.41700405, 0.34412955, 1.        ])\n",
    "test_ = test_.reshape(1,5,1)\n",
    "test_.shape"
   ]
  },
  {
   "cell_type": "code",
   "execution_count": 52,
   "metadata": {
    "colab": {
     "base_uri": "https://localhost:8080/"
    },
    "id": "8rixaWcLHfmM",
    "outputId": "124177f7-9c2d-469d-f471-d2f5b7ddd383"
   },
   "outputs": [
    {
     "name": "stdout",
     "output_type": "stream",
     "text": [
      "1/1 [==============================] - 0s 21ms/step\n"
     ]
    },
    {
     "data": {
      "text/plain": [
       "array([[0.6196725]], dtype=float32)"
      ]
     },
     "execution_count": 52,
     "metadata": {},
     "output_type": "execute_result"
    }
   ],
   "source": [
    "y_hat = model.predict(test_)\n",
    "y_hat"
   ]
  },
  {
   "cell_type": "code",
   "execution_count": 53,
   "metadata": {
    "colab": {
     "base_uri": "https://localhost:8080/"
    },
    "id": "SGqmb61mJEuN",
    "outputId": "92ba122b-f152-4b3e-f4c3-caf3c6391bf3"
   },
   "outputs": [
    {
     "data": {
      "text/plain": [
       "array([[538508.94]], dtype=float32)"
      ]
     },
     "execution_count": 53,
     "metadata": {},
     "output_type": "execute_result"
    }
   ],
   "source": [
    "y_hat = scaler.inverse_transform(y_hat)\n",
    "y_hat"
   ]
  }
 ],
 "metadata": {
  "accelerator": "GPU",
  "colab": {
   "provenance": []
  },
  "gpuClass": "standard",
  "kernelspec": {
   "display_name": "Python 3 (ipykernel)",
   "language": "python",
   "name": "python3"
  },
  "language_info": {
   "codemirror_mode": {
    "name": "ipython",
    "version": 3
   },
   "file_extension": ".py",
   "mimetype": "text/x-python",
   "name": "python",
   "nbconvert_exporter": "python",
   "pygments_lexer": "ipython3",
   "version": "3.8.10"
  }
 },
 "nbformat": 4,
 "nbformat_minor": 1
}
