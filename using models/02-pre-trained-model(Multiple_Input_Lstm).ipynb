{
 "cells": [
  {
   "cell_type": "markdown",
   "metadata": {
    "id": "4gsu2VOXn02j"
   },
   "source": [
    "# pre-trained-model(Multiple_Input_Lstm)\n",
    "\n",
    "- developer: mehdi sahraei\n",
    "- [link github](https://github.com/mehdisahraeei)"
   ]
  },
  {
   "cell_type": "markdown",
   "metadata": {},
   "source": [
    "### Importing"
   ]
  },
  {
   "cell_type": "code",
   "execution_count": 2,
   "metadata": {
    "id": "M3C4TjYDwDx4"
   },
   "outputs": [],
   "source": [
    "import pandas as pd\n",
    "import matplotlib.pyplot as plt\n",
    "import numpy as np\n",
    "import math\n",
    "import tensorflow as tf\n",
    "from numpy import array\n",
    "from sklearn.preprocessing import MinMaxScaler"
   ]
  },
  {
   "cell_type": "markdown",
   "metadata": {
    "id": "qAHlVhouysLD"
   },
   "source": [
    "### loading model"
   ]
  },
  {
   "cell_type": "code",
   "execution_count": 4,
   "metadata": {
    "colab": {
     "base_uri": "https://localhost:8080/"
    },
    "id": "i8qVa0eIz18z",
    "outputId": "fa169231-15a2-440d-9497-7dd1c1cb99c4"
   },
   "outputs": [],
   "source": [
    "# loading model\n",
    "model = tf.keras.models.load_model('savedata2')"
   ]
  },
  {
   "cell_type": "markdown",
   "metadata": {
    "id": "elZwPlOFy7qB"
   },
   "source": [
    "### Testing model"
   ]
  },
  {
   "cell_type": "markdown",
   "metadata": {
    "id": "SZm0jQgkB5sY"
   },
   "source": [
    "#### new testing\n",
    "- we must change dim"
   ]
  },
  {
   "cell_type": "code",
   "execution_count": 6,
   "metadata": {},
   "outputs": [
    {
     "name": "stdout",
     "output_type": "stream",
     "text": [
      "(6, 1)\n",
      "[[309000.]\n",
      " [307330.]\n",
      " [307690.]\n",
      " [304790.]\n",
      " [309040.]\n",
      " [308330.]]\n"
     ]
    }
   ],
   "source": [
    "test_norm = np.array([[309000, 307330],[307690, 304790],[309040, 308330]])\n",
    "test_norm = test_norm.astype('float128')\n",
    "test_norm = test_norm.reshape(-1,1)\n",
    "print(test_norm.shape)\n",
    "print(test_norm)"
   ]
  },
  {
   "cell_type": "code",
   "execution_count": 7,
   "metadata": {
    "colab": {
     "base_uri": "https://localhost:8080/"
    },
    "id": "3IWU9p2RA5Zr",
    "outputId": "0cde1f18-d5cb-4113-a63e-cf7aa0237535"
   },
   "outputs": [
    {
     "name": "stdout",
     "output_type": "stream",
     "text": [
      "[[0.99058824]\n",
      " [0.59764706]\n",
      " [0.68235294]\n",
      " [0.        ]\n",
      " [1.        ]\n",
      " [0.83294118]] \n",
      "\n",
      "(6, 1)\n"
     ]
    }
   ],
   "source": [
    "scaler = MinMaxScaler(feature_range = (0,1))\n",
    "test_norm = scaler.fit_transform(test_norm)\n",
    "print(test_norm[:],'\\n')\n",
    "print(test_norm.shape)"
   ]
  },
  {
   "cell_type": "code",
   "execution_count": 8,
   "metadata": {
    "colab": {
     "base_uri": "https://localhost:8080/"
    },
    "id": "HNmLoQrbkoH0",
    "outputId": "02f960c0-4251-4928-dab8-c329d98688e1"
   },
   "outputs": [
    {
     "name": "stdout",
     "output_type": "stream",
     "text": [
      "(1, 3, 2) \n",
      "\n",
      "[[[0.99058824 0.59764706]\n",
      "  [0.68235294 0.        ]\n",
      "  [1.         0.83294118]]]\n"
     ]
    }
   ],
   "source": [
    "test_ = array([[0.99058824, 0.59764706],[0.68235294, 0.        ],[1.      , 0.83294118]])\n",
    "test_ = test_.reshape(1,3,2)\n",
    "\n",
    "\n",
    "print(test_.shape,'\\n')\n",
    "print(test_)"
   ]
  },
  {
   "cell_type": "code",
   "execution_count": 9,
   "metadata": {
    "colab": {
     "base_uri": "https://localhost:8080/"
    },
    "id": "8rixaWcLHfmM",
    "outputId": "124177f7-9c2d-469d-f471-d2f5b7ddd383"
   },
   "outputs": [
    {
     "name": "stdout",
     "output_type": "stream",
     "text": [
      "1/1 [==============================] - 0s 217ms/step\n"
     ]
    },
    {
     "data": {
      "text/plain": [
       "array([[0.69331026, 0.5517338 ]], dtype=float32)"
      ]
     },
     "execution_count": 9,
     "metadata": {},
     "output_type": "execute_result"
    }
   ],
   "source": [
    "y_hat = model.predict(test_)\n",
    "y_hat"
   ]
  },
  {
   "cell_type": "code",
   "execution_count": 10,
   "metadata": {
    "colab": {
     "base_uri": "https://localhost:8080/"
    },
    "id": "SGqmb61mJEuN",
    "outputId": "92ba122b-f152-4b3e-f4c3-caf3c6391bf3"
   },
   "outputs": [
    {
     "data": {
      "text/plain": [
       "array([[307736.6 , 307134.88]], dtype=float32)"
      ]
     },
     "execution_count": 10,
     "metadata": {},
     "output_type": "execute_result"
    }
   ],
   "source": [
    "y_hat = scaler.inverse_transform(y_hat)\n",
    "y_hat"
   ]
  }
 ],
 "metadata": {
  "accelerator": "GPU",
  "colab": {
   "provenance": []
  },
  "gpuClass": "standard",
  "kernelspec": {
   "display_name": "Python 3 (ipykernel)",
   "language": "python",
   "name": "python3"
  },
  "language_info": {
   "codemirror_mode": {
    "name": "ipython",
    "version": 3
   },
   "file_extension": ".py",
   "mimetype": "text/x-python",
   "name": "python",
   "nbconvert_exporter": "python",
   "pygments_lexer": "ipython3",
   "version": "3.8.10"
  }
 },
 "nbformat": 4,
 "nbformat_minor": 1
}
