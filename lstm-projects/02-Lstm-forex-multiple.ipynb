{
 "cells": [
  {
   "cell_type": "markdown",
   "metadata": {
    "id": "4gsu2VOXn02j"
   },
   "source": [
    "# Multiple_Input_Lstm\n",
    "- developer: mehdi sahraei\n",
    "- [link github](https://github.com/mehdisahraeei)"
   ]
  },
  {
   "cell_type": "markdown",
   "metadata": {},
   "source": [
    "### Importing"
   ]
  },
  {
   "cell_type": "code",
   "execution_count": 2,
   "metadata": {
    "id": "M3C4TjYDwDx4"
   },
   "outputs": [],
   "source": [
    "import pandas as pd\n",
    "import matplotlib.pyplot as plt\n",
    "import numpy as np\n",
    "import math\n",
    "import tensorflow as tf\n",
    "from numpy import array\n",
    "from tensorflow.keras.models import Sequential\n",
    "from tensorflow.keras.layers import LSTM, Dense, Dropout\n",
    "from sklearn.preprocessing import MinMaxScaler\n",
    "from sklearn.metrics import mean_squared_error"
   ]
  },
  {
   "cell_type": "markdown",
   "metadata": {
    "id": "4hRndIfXpFQ5"
   },
   "source": [
    "### Reading df"
   ]
  },
  {
   "cell_type": "code",
   "execution_count": 3,
   "metadata": {
    "colab": {
     "base_uri": "https://localhost:8080/",
     "height": 238
    },
    "id": "tkKcfgQexMgI",
    "outputId": "49c35a96-12fa-47da-e81b-2713a6c92e0d"
   },
   "outputs": [
    {
     "data": {
      "text/html": [
       "<div>\n",
       "<style scoped>\n",
       "    .dataframe tbody tr th:only-of-type {\n",
       "        vertical-align: middle;\n",
       "    }\n",
       "\n",
       "    .dataframe tbody tr th {\n",
       "        vertical-align: top;\n",
       "    }\n",
       "\n",
       "    .dataframe thead th {\n",
       "        text-align: right;\n",
       "    }\n",
       "</style>\n",
       "<table border=\"1\" class=\"dataframe\">\n",
       "  <thead>\n",
       "    <tr style=\"text-align: right;\">\n",
       "      <th></th>\n",
       "      <th>Open</th>\n",
       "      <th>High</th>\n",
       "      <th>Low</th>\n",
       "      <th>Close</th>\n",
       "      <th>Adj Close</th>\n",
       "      <th>Volume</th>\n",
       "    </tr>\n",
       "    <tr>\n",
       "      <th>Date</th>\n",
       "      <th></th>\n",
       "      <th></th>\n",
       "      <th></th>\n",
       "      <th></th>\n",
       "      <th></th>\n",
       "      <th></th>\n",
       "    </tr>\n",
       "  </thead>\n",
       "  <tbody>\n",
       "    <tr>\n",
       "      <th>2022-01-22</th>\n",
       "      <td>36471.589844</td>\n",
       "      <td>36688.812500</td>\n",
       "      <td>34349.250000</td>\n",
       "      <td>35030.250000</td>\n",
       "      <td>35030.250000</td>\n",
       "      <td>39714385405</td>\n",
       "    </tr>\n",
       "    <tr>\n",
       "      <th>2022-01-23</th>\n",
       "      <td>35047.359375</td>\n",
       "      <td>36433.312500</td>\n",
       "      <td>34784.968750</td>\n",
       "      <td>36276.804688</td>\n",
       "      <td>36276.804688</td>\n",
       "      <td>26017975951</td>\n",
       "    </tr>\n",
       "    <tr>\n",
       "      <th>2022-01-24</th>\n",
       "      <td>36275.734375</td>\n",
       "      <td>37247.519531</td>\n",
       "      <td>33184.058594</td>\n",
       "      <td>36654.328125</td>\n",
       "      <td>36654.328125</td>\n",
       "      <td>41856658597</td>\n",
       "    </tr>\n",
       "    <tr>\n",
       "      <th>2022-01-25</th>\n",
       "      <td>36654.804688</td>\n",
       "      <td>37444.570313</td>\n",
       "      <td>35779.429688</td>\n",
       "      <td>36954.003906</td>\n",
       "      <td>36954.003906</td>\n",
       "      <td>26428189594</td>\n",
       "    </tr>\n",
       "    <tr>\n",
       "      <th>2022-01-26</th>\n",
       "      <td>36950.515625</td>\n",
       "      <td>38825.410156</td>\n",
       "      <td>36374.906250</td>\n",
       "      <td>36852.121094</td>\n",
       "      <td>36852.121094</td>\n",
       "      <td>31324598034</td>\n",
       "    </tr>\n",
       "  </tbody>\n",
       "</table>\n",
       "</div>"
      ],
      "text/plain": [
       "                    Open          High           Low         Close  \\\n",
       "Date                                                                 \n",
       "2022-01-22  36471.589844  36688.812500  34349.250000  35030.250000   \n",
       "2022-01-23  35047.359375  36433.312500  34784.968750  36276.804688   \n",
       "2022-01-24  36275.734375  37247.519531  33184.058594  36654.328125   \n",
       "2022-01-25  36654.804688  37444.570313  35779.429688  36954.003906   \n",
       "2022-01-26  36950.515625  38825.410156  36374.906250  36852.121094   \n",
       "\n",
       "               Adj Close       Volume  \n",
       "Date                                   \n",
       "2022-01-22  35030.250000  39714385405  \n",
       "2022-01-23  36276.804688  26017975951  \n",
       "2022-01-24  36654.328125  41856658597  \n",
       "2022-01-25  36954.003906  26428189594  \n",
       "2022-01-26  36852.121094  31324598034  "
      ]
     },
     "execution_count": 3,
     "metadata": {},
     "output_type": "execute_result"
    }
   ],
   "source": [
    "df = pd.read_csv('BTC-USD.csv', index_col=\"Date\", infer_datetime_format=True, parse_dates=True)\n",
    "df.head(5)"
   ]
  },
  {
   "cell_type": "markdown",
   "metadata": {
    "id": "yXBNX2FHpVti"
   },
   "source": [
    "- dropping"
   ]
  },
  {
   "cell_type": "code",
   "execution_count": 4,
   "metadata": {
    "colab": {
     "base_uri": "https://localhost:8080/",
     "height": 238
    },
    "id": "D4wCPrty_NBZ",
    "outputId": "163d3e6a-dd9f-4d10-cc4e-078f68a7d542"
   },
   "outputs": [
    {
     "data": {
      "text/html": [
       "<div>\n",
       "<style scoped>\n",
       "    .dataframe tbody tr th:only-of-type {\n",
       "        vertical-align: middle;\n",
       "    }\n",
       "\n",
       "    .dataframe tbody tr th {\n",
       "        vertical-align: top;\n",
       "    }\n",
       "\n",
       "    .dataframe thead th {\n",
       "        text-align: right;\n",
       "    }\n",
       "</style>\n",
       "<table border=\"1\" class=\"dataframe\">\n",
       "  <thead>\n",
       "    <tr style=\"text-align: right;\">\n",
       "      <th></th>\n",
       "      <th>Open</th>\n",
       "      <th>High</th>\n",
       "      <th>Close</th>\n",
       "    </tr>\n",
       "    <tr>\n",
       "      <th>Date</th>\n",
       "      <th></th>\n",
       "      <th></th>\n",
       "      <th></th>\n",
       "    </tr>\n",
       "  </thead>\n",
       "  <tbody>\n",
       "    <tr>\n",
       "      <th>2022-01-22</th>\n",
       "      <td>36471.589844</td>\n",
       "      <td>36688.812500</td>\n",
       "      <td>35030.250000</td>\n",
       "    </tr>\n",
       "    <tr>\n",
       "      <th>2022-01-23</th>\n",
       "      <td>35047.359375</td>\n",
       "      <td>36433.312500</td>\n",
       "      <td>36276.804688</td>\n",
       "    </tr>\n",
       "    <tr>\n",
       "      <th>2022-01-24</th>\n",
       "      <td>36275.734375</td>\n",
       "      <td>37247.519531</td>\n",
       "      <td>36654.328125</td>\n",
       "    </tr>\n",
       "    <tr>\n",
       "      <th>2022-01-25</th>\n",
       "      <td>36654.804688</td>\n",
       "      <td>37444.570313</td>\n",
       "      <td>36954.003906</td>\n",
       "    </tr>\n",
       "    <tr>\n",
       "      <th>2022-01-26</th>\n",
       "      <td>36950.515625</td>\n",
       "      <td>38825.410156</td>\n",
       "      <td>36852.121094</td>\n",
       "    </tr>\n",
       "  </tbody>\n",
       "</table>\n",
       "</div>"
      ],
      "text/plain": [
       "                    Open          High         Close\n",
       "Date                                                \n",
       "2022-01-22  36471.589844  36688.812500  35030.250000\n",
       "2022-01-23  35047.359375  36433.312500  36276.804688\n",
       "2022-01-24  36275.734375  37247.519531  36654.328125\n",
       "2022-01-25  36654.804688  37444.570313  36954.003906\n",
       "2022-01-26  36950.515625  38825.410156  36852.121094"
      ]
     },
     "execution_count": 4,
     "metadata": {},
     "output_type": "execute_result"
    }
   ],
   "source": [
    "df = df.drop(['Adj Close','Volume','Low'], axis=1)\n",
    "df.head()"
   ]
  },
  {
   "cell_type": "code",
   "execution_count": 5,
   "metadata": {
    "colab": {
     "base_uri": "https://localhost:8080/"
    },
    "id": "6BEyI0w8ylc3",
    "outputId": "117edd2f-ddd1-4318-c3b2-7ded68c91847"
   },
   "outputs": [
    {
     "data": {
      "text/plain": [
       "array([[36471.589844, 36688.8125  , 35030.25    ],\n",
       "       [35047.359375, 36433.3125  , 36276.804688],\n",
       "       [36275.734375, 37247.519531, 36654.328125],\n",
       "       [36654.804688, 37444.570313, 36954.003906],\n",
       "       [36950.515625, 38825.410156, 36852.121094]])"
      ]
     },
     "execution_count": 5,
     "metadata": {},
     "output_type": "execute_result"
    }
   ],
   "source": [
    "dataset = df.values\n",
    "dataset = dataset.astype('float64')\n",
    "dataset[:5]"
   ]
  },
  {
   "cell_type": "markdown",
   "metadata": {
    "id": "_4zKsyTypgcL"
   },
   "source": [
    "### plotting data"
   ]
  },
  {
   "cell_type": "code",
   "execution_count": 6,
   "metadata": {
    "colab": {
     "base_uri": "https://localhost:8080/",
     "height": 265
    },
    "id": "yRU_ga_rzHv5",
    "outputId": "c1fc44d1-21bd-462a-b23a-1fcc9be1c47e"
   },
   "outputs": [
    {
     "data": {
      "image/png": "[encoded data removed]",
      "text/plain": [
       "<Figure size 640x480 with 1 Axes>"
      ]
     },
     "metadata": {},
     "output_type": "display_data"
    }
   ],
   "source": [
    "plt.plot(dataset)\n",
    "plt.show()"
   ]
  },
  {
   "cell_type": "markdown",
   "metadata": {
    "id": "wxcjKZ50pnKA"
   },
   "source": [
    "### normalizing data"
   ]
  },
  {
   "cell_type": "code",
   "execution_count": 7,
   "metadata": {
    "colab": {
     "base_uri": "https://localhost:8080/"
    },
    "id": "yHGcWJCqzy03",
    "outputId": "315ae535-74dd-4571-a23b-17c45ac1aeae"
   },
   "outputs": [
    {
     "name": "stdout",
     "output_type": "stream",
     "text": [
      "[[0.65318238 0.64195202 0.60744664]\n",
      " [0.60821794 0.63392596 0.64679689]\n",
      " [0.64699902 0.65950278 0.65871425]\n",
      " [0.65896666 0.66569277 0.66817418]\n",
      " [0.66830256 0.70906931 0.66495802]] \n",
      "\n",
      "(366, 3)\n"
     ]
    }
   ],
   "source": [
    "scaler = MinMaxScaler(feature_range = (0,1))\n",
    "dataset = scaler.fit_transform(dataset)\n",
    "print(dataset[:5],'\\n')\n",
    "print(dataset.shape)"
   ]
  },
  {
   "cell_type": "markdown",
   "metadata": {
    "id": "v-odIRJ_p0ub"
   },
   "source": [
    "### Method for making data and timestep"
   ]
  },
  {
   "cell_type": "code",
   "execution_count": 8,
   "metadata": {
    "id": "FTc_w35542AQ"
   },
   "outputs": [],
   "source": [
    "# lookback -> timestep\n",
    "def create_dataset(dataset,look_back):\n",
    "    data_x, data_y = [],[] #data_x is data and data_y is label\n",
    "    for i in range(len(dataset)-look_back-1): #we want if data be beyond len(sequendatasetce), the command will not continue\n",
    "        data_x.append(dataset[i:(i+look_back),:])\n",
    "        data_y.append(dataset[i+look_back,:])\n",
    "    return np.array(data_x) , np.array(data_y)"
   ]
  },
  {
   "cell_type": "markdown",
   "metadata": {
    "id": "IR1wen6crVYY"
   },
   "source": [
    "### split dataset"
   ]
  },
  {
   "cell_type": "code",
   "execution_count": 9,
   "metadata": {
    "colab": {
     "base_uri": "https://localhost:8080/"
    },
    "id": "F2bQwF2m75fB",
    "outputId": "4ad32296-56e9-4a66-ae7f-bcd05b8c6fce"
   },
   "outputs": [
    {
     "name": "stdout",
     "output_type": "stream",
     "text": [
      "(292, 3)\n",
      "(74, 3)\n"
     ]
    }
   ],
   "source": [
    "train_size = int(len(dataset) * 0.80)\n",
    "train , test = dataset[0:train_size,:] , dataset[train_size:len(dataset),:]\n",
    "print(train.shape)\n",
    "print(test.shape)"
   ]
  },
  {
   "cell_type": "code",
   "execution_count": 10,
   "metadata": {
    "colab": {
     "base_uri": "https://localhost:8080/"
    },
    "id": "UXfmcI5JsRjm",
    "outputId": "ba7d9170-543e-4c84-b3ad-37e5ccf6f5ae"
   },
   "outputs": [
    {
     "data": {
      "text/plain": [
       "array([[0.65318238, 0.64195202, 0.60744664],\n",
       "       [0.60821794, 0.63392596, 0.64679689],\n",
       "       [0.64699902, 0.65950278, 0.65871425],\n",
       "       [0.65896666, 0.66569277, 0.66817418],\n",
       "       [0.66830256, 0.70906931, 0.66495802]])"
      ]
     },
     "execution_count": 10,
     "metadata": {},
     "output_type": "execute_result"
    }
   ],
   "source": [
    "train[:5]"
   ]
  },
  {
   "cell_type": "markdown",
   "metadata": {
    "id": "Zonvsx80w_HW"
   },
   "source": [
    "### Making data train & test x,y"
   ]
  },
  {
   "cell_type": "code",
   "execution_count": 11,
   "metadata": {
    "id": "rfssedbp7stl"
   },
   "outputs": [],
   "source": [
    "n_steps = 3 #timestep or look_up\n",
    "\n",
    "train_x , train_y = create_dataset(train, n_steps)\n",
    "test_x , test_y = create_dataset(test, n_steps)"
   ]
  },
  {
   "cell_type": "code",
   "execution_count": 12,
   "metadata": {
    "colab": {
     "base_uri": "https://localhost:8080/"
    },
    "id": "QYRpaSp4wO0h",
    "outputId": "91ed5e76-23bd-46a5-a1a5-eeb176ee749a"
   },
   "outputs": [
    {
     "name": "stdout",
     "output_type": "stream",
     "text": [
      "(288, 3, 3) (288, 3)\n",
      "(70, 3, 3) (70, 3)\n"
     ]
    }
   ],
   "source": [
    "print(train_x.shape , train_y.shape)\n",
    "print(test_x.shape , test_y.shape)"
   ]
  },
  {
   "cell_type": "code",
   "execution_count": 13,
   "metadata": {
    "colab": {
     "base_uri": "https://localhost:8080/"
    },
    "id": "EF_5EXbI9rWH",
    "outputId": "cd5e62d6-c23c-446f-f0f6-953da21cc1d2"
   },
   "outputs": [
    {
     "data": {
      "text/plain": [
       "array([[[0.65318238, 0.64195202, 0.60744664],\n",
       "        [0.60821794, 0.63392596, 0.64679689],\n",
       "        [0.64699902, 0.65950278, 0.65871425]],\n",
       "\n",
       "       [[0.60821794, 0.63392596, 0.64679689],\n",
       "        [0.64699902, 0.65950278, 0.65871425],\n",
       "        [0.65896666, 0.66569277, 0.66817418]]])"
      ]
     },
     "execution_count": 13,
     "metadata": {},
     "output_type": "execute_result"
    }
   ],
   "source": [
    "train_x[:2]"
   ]
  },
  {
   "cell_type": "code",
   "execution_count": 14,
   "metadata": {
    "colab": {
     "base_uri": "https://localhost:8080/"
    },
    "id": "7eVCvrxwAgyK",
    "outputId": "81fbc25a-5ae6-4e99-a219-1de945c0b0fd"
   },
   "outputs": [
    {
     "name": "stdout",
     "output_type": "stream",
     "text": [
      "[[0.65318238 0.64195202 0.60744664]\n",
      " [0.60821794 0.63392596 0.64679689]\n",
      " [0.64699902 0.65950278 0.65871425]] [0.65896666 0.66569277 0.66817418]\n",
      "[[0.60821794 0.63392596 0.64679689]\n",
      " [0.64699902 0.65950278 0.65871425]\n",
      " [0.65896666 0.66569277 0.66817418]] [0.66830256 0.70906931 0.66495802]\n",
      "[[0.64699902 0.65950278 0.65871425]\n",
      " [0.65896666 0.66569277 0.66817418]\n",
      " [0.66830256 0.70906931 0.66495802]] [0.66487279 0.65638674 0.67398982]\n",
      "[[0.65896666 0.66569277 0.66817418]\n",
      " [0.66830256 0.70906931 0.66495802]\n",
      " [0.66487279 0.65638674 0.67398982]] [0.67391999 0.68166035 0.69438531]\n",
      "[[0.66830256 0.70906931 0.66495802]\n",
      " [0.66487279 0.65638674 0.67398982]\n",
      " [0.67391999 0.68166035 0.69438531]] [0.69451282 0.70124277 0.70555529]\n",
      "[[0.66487279 0.65638674 0.67398982]\n",
      " [0.67391999 0.68166035 0.69438531]\n",
      " [0.69451282 0.70124277 0.70555529]] [0.70623209 0.69150715 0.69859226]\n",
      "[[0.67391999 0.68166035 0.69438531]\n",
      " [0.69451282 0.70124277 0.70555529]\n",
      " [0.70623209 0.69150715 0.69859226]] [0.69891907 0.70347311 0.71644425]\n",
      "[[0.69451282 0.70124277 0.70555529]\n",
      " [0.70623209 0.69150715 0.69859226]\n",
      " [0.69891907 0.70347311 0.71644425]] [0.71664572 0.71817042 0.72465641]\n",
      "[[0.70623209 0.69150715 0.69859226]\n",
      " [0.69891907 0.70347311 0.71644425]\n",
      " [0.71664572 0.71817042 0.72465641]] [0.72491573 0.70935854 0.66814199]\n",
      "[[0.69891907 0.70347311 0.71644425]\n",
      " [0.71664572 0.71817042 0.72465641]\n",
      " [0.72491573 0.70935854 0.66814199]] [0.66812226 0.65658393 0.67450648]\n",
      "[[0.71664572 0.71817042 0.72465641]\n",
      " [0.72491573 0.70935854 0.66814199]\n",
      " [0.66812226 0.65658393 0.67450648]] [0.67457731 0.79395946 0.81170619]\n",
      "[[0.72491573 0.70935854 0.66814199]\n",
      " [0.66812226 0.65658393 0.67450648]\n",
      " [0.67457731 0.79395946 0.81170619]] [0.81198126 0.80399217 0.80982128]\n",
      "[[0.66812226 0.65658393 0.67450648]\n",
      " [0.67457731 0.79395946 0.81170619]\n",
      " [0.81198126 0.80399217 0.80982128]] [0.81007565 0.82452447 0.84048154]\n",
      "[[0.67457731 0.79395946 0.81170619]\n",
      " [0.81198126 0.80399217 0.80982128]\n",
      " [0.81007565 0.82452447 0.84048154]] [0.84056255 0.88424335 0.88555483]\n",
      "[[0.81198126 0.80399217 0.80982128]\n",
      " [0.81007565 0.82452447 0.84048154]\n",
      " [0.84056255 0.88424335 0.88555483]] [0.88627334 0.91226402 0.89433556]\n",
      "[[0.81007565 0.82452447 0.84048154]\n",
      " [0.84056255 0.88424335 0.88555483]\n",
      " [0.88627334 0.91226402 0.89433556]] [0.89391514 0.89448208 0.90129145]\n",
      "[[0.84056255 0.88424335 0.88555483]\n",
      " [0.88627334 0.91226402 0.89433556]\n",
      " [0.89391514 0.89448208 0.90129145]] [0.90184255 0.92380222 0.87686842]\n",
      "[[0.88627334 0.91226402 0.89433556]\n",
      " [0.89391514 0.89448208 0.90129145]\n",
      " [0.90184255 0.92380222 0.87686842]] [0.87732221 0.86567719 0.84033961]\n",
      "[[0.89391514 0.89448208 0.90129145]\n",
      " [0.90184255 0.92380222 0.87686842]\n",
      " [0.87732221 0.86567719 0.84033961]] [0.8407368  0.83997239 0.83517936]\n",
      "[[0.90184255 0.92380222 0.87686842]\n",
      " [0.87732221 0.86567719 0.84033961]\n",
      " [0.8407368  0.83997239 0.83517936]] [0.83518869 0.83056427 0.83369718]\n",
      "[[0.87732221 0.86567719 0.84033961]\n",
      " [0.8407368  0.83997239 0.83517936]\n",
      " [0.83518869 0.83056427 0.83369718]] [0.83268927 0.83316285 0.84598953]\n",
      "[[0.8407368  0.83997239 0.83517936]\n",
      " [0.83518869 0.83056427 0.83369718]\n",
      " [0.83268927 0.83316285 0.84598953]] [0.84623534 0.89257901 0.90875413]\n",
      "[[0.83518869 0.83056427 0.83369718]\n",
      " [0.83268927 0.83316285 0.84598953]\n",
      " [0.84623534 0.89257901 0.90875413]] [0.90911894 0.88978507 0.88939258]\n",
      "[[0.83268927 0.83316285 0.84598953]\n",
      " [0.84623534 0.89257901 0.90875413]\n",
      " [0.90911894 0.88978507 0.88939258]] [0.88887536 0.87579665 0.78131128]\n",
      "[[0.84623534 0.89257901 0.90875413]\n",
      " [0.90911894 0.88978507 0.88939258]\n",
      " [0.88887536 0.87579665 0.78131128]] [0.78200937 0.77515451 0.7653056 ]\n",
      "[[0.90911894 0.88978507 0.88939258]\n",
      " [0.88887536 0.87579665 0.78131128]\n",
      " [0.78200937 0.77515451 0.7653056 ]] [0.76539955 0.75912521 0.76818389]\n",
      "[[0.88887536 0.87579665 0.78131128]\n",
      " [0.78200937 0.77515451 0.7653056 ]\n",
      " [0.76539955 0.75912521 0.76818389]] [0.76830655 0.74973304 0.71481077]\n",
      "[[0.78200937 0.77515451 0.7653056 ]\n",
      " [0.76539955 0.75912521 0.76818389]\n",
      " [0.76830655 0.74973304 0.71481077]] [0.71479709 0.72694426 0.67200256]\n",
      "[[0.76539955 0.75912521 0.76818389]\n",
      " [0.76830655 0.74973304 0.71481077]\n",
      " [0.71479709 0.72694426 0.67200256]] [0.67203596 0.69444477 0.71022243]\n",
      "[[0.76830655 0.74973304 0.71481077]\n",
      " [0.71479709 0.72694426 0.67200256]\n",
      " [0.67203596 0.69444477 0.71022243]] [0.7104425  0.71839853 0.67898804]\n",
      "[[0.71479709 0.72694426 0.67200256]\n",
      " [0.67203596 0.69444477 0.71022243]\n",
      " [0.7104425  0.71839853 0.67898804]] [0.67865947 0.7135749  0.7116929 ]\n",
      "[[0.67203596 0.69444477 0.71022243]\n",
      " [0.7104425  0.71839853 0.67898804]\n",
      " [0.67865947 0.7135749  0.7116929 ]] [0.71197259 0.73435421 0.73952284]\n",
      "[[0.7104425  0.71839853 0.67898804]\n",
      " [0.67865947 0.7135749  0.7116929 ]\n",
      " [0.71197259 0.73435421 0.73952284]] [0.73973414 0.74613488 0.7360798 ]\n",
      "[[0.67865947 0.7135749  0.7116929 ]\n",
      " [0.71197259 0.73435421 0.73952284]\n",
      " [0.73973414 0.74613488 0.7360798 ]] [0.73612296 0.73902275 0.69203208]\n",
      "[[0.71197259 0.73435421 0.73952284]\n",
      " [0.73973414 0.74613488 0.7360798 ]\n",
      " [0.73612296 0.73902275 0.69203208]] [0.69215399 0.86409475 0.86512924]\n",
      "[[0.73973414 0.74613488 0.7360798 ]\n",
      " [0.73612296 0.73902275 0.69203208]\n",
      " [0.69215399 0.86409475 0.86512924]] [0.86543177 0.89654909 0.90179147]\n",
      "[[0.73612296 0.73902275 0.69203208]\n",
      " [0.69215399 0.86409475 0.86512924]\n",
      " [0.86543177 0.89654909 0.90179147]] [0.90215247 0.90546969 0.88820117]\n",
      "[[0.69215399 0.86409475 0.86512924]\n",
      " [0.86543177 0.89654909 0.90179147]\n",
      " [0.90215247 0.90546969 0.88820117]] [0.88850046 0.87229739 0.84172389]\n",
      "[[0.86543177 0.89654909 0.90179147]\n",
      " [0.90215247 0.90546969 0.88820117]\n",
      " [0.88850046 0.87229739 0.84172389]] [0.84218402 0.8238594  0.73710437]\n",
      "[[0.90215247 0.90546969 0.88820117]\n",
      " [0.88850046 0.87229739 0.84172389]\n",
      " [0.84218402 0.8238594  0.73710437]] [0.73769361 0.73234414 0.74540593]\n",
      "[[0.88850046 0.87229739 0.84172389]\n",
      " [0.84218402 0.8238594  0.73710437]\n",
      " [0.73769361 0.73234414 0.74540593]] [0.74576791 0.73466368 0.71445108]\n",
      "[[0.84218402 0.8238594  0.73710437]\n",
      " [0.73769361 0.73234414 0.74540593]\n",
      " [0.74576791 0.73466368 0.71445108]] [0.71498947 0.72806851 0.70315175]\n",
      "[[0.73769361 0.73234414 0.74540593]\n",
      " [0.74576791 0.73466368 0.71445108]\n",
      " [0.71498947 0.72806851 0.70315175]] [0.70332706 0.7241172  0.72446689]\n",
      "[[0.74576791 0.73466368 0.71445108]\n",
      " [0.71498947 0.72806851 0.70315175]\n",
      " [0.70332706 0.7241172  0.72446689]] [0.72488736 0.82342145 0.82692318]\n",
      "[[0.71498947 0.72806851 0.70315175]\n",
      " [0.70332706 0.7241172  0.72446689]\n",
      " [0.72488736 0.82342145 0.82692318]] [0.82690141 0.8089417  0.74656997]\n",
      "[[0.70332706 0.7241172  0.72446689]\n",
      " [0.72488736 0.82342145 0.82692318]\n",
      " [0.82690141 0.8089417  0.74656997]] [0.74689719 0.74853272 0.72628841]\n",
      "[[0.72488736 0.82342145 0.82692318]\n",
      " [0.82690141 0.8089417  0.74656997]\n",
      " [0.74689719 0.74853272 0.72628841]] [0.72651796 0.72424776 0.72973047]\n",
      "[[0.82690141 0.8089417  0.74656997]\n",
      " [0.74689719 0.74853272 0.72628841]\n",
      " [0.72651796 0.72424776 0.72973047]] [0.72936762 0.72113013 0.69644766]\n",
      "[[0.74689719 0.74853272 0.72628841]\n",
      " [0.72651796 0.72424776 0.72973047]\n",
      " [0.72936762 0.72113013 0.69644766]] [0.69658393 0.73787801 0.75380811]\n",
      "[[0.72651796 0.72424776 0.72973047]\n",
      " [0.72936762 0.72113013 0.69644766]\n",
      " [0.69658393 0.73787801 0.75380811]] [0.75397798 0.73951554 0.74345505]\n",
      "[[0.72936762 0.72113013 0.69644766]\n",
      " [0.69658393 0.73787801 0.75380811]\n",
      " [0.75397798 0.73951554 0.74345505]] [0.74360122 0.79200142 0.80043842]\n",
      "[[0.69658393 0.73787801 0.75380811]\n",
      " [0.75397798 0.73951554 0.74345505]\n",
      " [0.74360122 0.79200142 0.80043842]] [0.80059558 0.78641245 0.79436013]\n",
      "[[0.75397798 0.73951554 0.74345505]\n",
      " [0.74360122 0.79200142 0.80043842]\n",
      " [0.80059558 0.78641245 0.79436013]] [0.79440754 0.81494223 0.82118523]\n",
      "[[0.74360122 0.79200142 0.80043842]\n",
      " [0.80059558 0.78641245 0.79436013]\n",
      " [0.79440754 0.81494223 0.82118523]] [0.82123688 0.81873721 0.83348053]\n",
      "[[0.80059558 0.78641245 0.79436013]\n",
      " [0.79440754 0.81494223 0.82118523]\n",
      " [0.82123688 0.81873721 0.83348053]] [0.83376293 0.81636895 0.80371808]\n",
      "[[0.79440754 0.81494223 0.82118523]\n",
      " [0.82123688 0.81873721 0.83348053]\n",
      " [0.83376293 0.81636895 0.80371808]] [0.80391967 0.79165452 0.79835708]\n",
      "[[0.82123688 0.81873721 0.83348053]\n",
      " [0.83376293 0.81636895 0.80371808]\n",
      " [0.80391967 0.79165452 0.79835708]] [0.79848859 0.84412383 0.83878875]\n",
      "[[0.83376293 0.81636895 0.80371808]\n",
      " [0.80391967 0.79165452 0.79835708]\n",
      " [0.79848859 0.84412383 0.83878875]] [0.83922386 0.83686113 0.85565032]\n",
      "[[0.80391967 0.79165452 0.79835708]\n",
      " [0.79848859 0.84412383 0.83878875]\n",
      " [0.83922386 0.83686113 0.85565032]] [0.85571258 0.87576155 0.88936336]\n",
      "[[0.79848859 0.84412383 0.83878875]\n",
      " [0.83922386 0.83686113 0.85565032]\n",
      " [0.85571258 0.87576155 0.88936336]] [0.88974283 0.90301677 0.90160502]\n",
      "[[0.83922386 0.83686113 0.85565032]\n",
      " [0.85571258 0.87576155 0.88936336]\n",
      " [0.88974283 0.90301677 0.90160502]] [0.90190754 0.89473952 0.90640632]\n",
      "[[0.85571258 0.87576155 0.88936336]\n",
      " [0.88974283 0.90301677 0.90160502]\n",
      " [0.90190754 0.89473952 0.90640632]] [0.90681672 0.96044175 0.97963163]\n",
      "[[0.88974283 0.90301677 0.90160502]\n",
      " [0.90190754 0.89473952 0.90640632]\n",
      " [0.90681672 0.96044175 0.97963163]] [0.97995091 1.         0.98933892]\n",
      "[[0.90190754 0.89473952 0.90640632]\n",
      " [0.90681672 0.96044175 0.97963163]\n",
      " [0.97995091 1.         0.98933892]] [0.98874616 0.99797238 1.        ]\n",
      "[[0.90681672 0.96044175 0.97963163]\n",
      " [0.97995091 1.         0.98933892]\n",
      " [0.98874616 0.99797238 1.        ]] [1.         0.98643933 0.98727632]\n",
      "[[0.97995091 1.         0.98933892]\n",
      " [0.98874616 0.99797238 1.        ]\n",
      " [1.         0.98643933 0.98727632]] [0.98753733 0.98194344 0.93916827]\n",
      "[[0.98874616 0.99797238 1.        ]\n",
      " [1.         0.98643933 0.98727632]\n",
      " [0.98753733 0.98194344 0.93916827]] [0.9399287  0.953804   0.96262172]\n",
      "[[1.         0.98643933 0.98727632]\n",
      " [0.98753733 0.98194344 0.93916827]\n",
      " [0.9399287  0.953804   0.96262172]] [0.96301773 0.96674745 0.94959408]\n",
      "[[0.98753733 0.98194344 0.93916827]\n",
      " [0.9399287  0.953804   0.96262172]\n",
      " [0.96301773 0.96674745 0.94959408]] [0.94955675 0.97570634 0.96804881]\n",
      "[[0.9399287  0.953804   0.96262172]\n",
      " [0.96301773 0.96674745 0.94959408]\n",
      " [0.94955675 0.97570634 0.96804881]] [0.96806195 0.95929652 0.97338712]\n",
      "[[0.96301773 0.96674745 0.94959408]\n",
      " [0.94955675 0.97570634 0.96804881]\n",
      " [0.96806195 0.95929652 0.97338712]] [0.97372056 0.96919326 0.9397149 ]\n",
      "[[0.94955675 0.97570634 0.96804881]\n",
      " [0.96806195 0.95929652 0.97338712]\n",
      " [0.97372056 0.96919326 0.9397149 ]] [0.93961903 0.92013264 0.86555552]\n",
      "[[0.96806195 0.95929652 0.97338712]\n",
      " [0.97372056 0.96919326 0.9397149 ]\n",
      " [0.93961903 0.92013264 0.86555552]] [0.86584207 0.86724367 0.87493443]\n",
      "[[0.97372056 0.96919326 0.9397149 ]\n",
      " [0.93961903 0.92013264 0.86555552]\n",
      " [0.86584207 0.86724367 0.87493443]] [0.87523877 0.86857309 0.83654292]\n",
      "[[0.93961903 0.92013264 0.86555552]\n",
      " [0.86584207 0.86724367 0.87493443]\n",
      " [0.87523877 0.86857309 0.83654292]] [0.83662554 0.83350962 0.85215204]\n",
      "[[0.86584207 0.86724367 0.87493443]\n",
      " [0.87523877 0.86857309 0.83654292]\n",
      " [0.83662554 0.83350962 0.85215204]] [0.85237986 0.85202964 0.83401779]\n",
      "[[0.87523877 0.86857309 0.83654292]\n",
      " [0.83662554 0.83350962 0.85215204]\n",
      " [0.85237986 0.85202964 0.83401779]] [0.83406705 0.82213094 0.74923555]\n",
      "[[0.83662554 0.83350962 0.85215204]\n",
      " [0.85237986 0.85202964 0.83401779]\n",
      " [0.83406705 0.82213094 0.74923555]] [0.74985685 0.76536723 0.76834259]\n",
      "[[0.85237986 0.85202964 0.83401779]\n",
      " [0.83406705 0.82213094 0.74923555]\n",
      " [0.74985685 0.76536723 0.76834259]] [0.7684792  0.79088944 0.80115818]\n",
      "[[0.83406705 0.82213094 0.74923555]\n",
      " [0.74985685 0.76536723 0.76834259]\n",
      " [0.7684792  0.79088944 0.80115818]] [0.80120727 0.79156249 0.76229217]\n",
      "[[0.74985685 0.76536723 0.76834259]\n",
      " [0.7684792  0.79088944 0.80115818]\n",
      " [0.80120727 0.79156249 0.76229217]] [0.76266483 0.76537152 0.7817991 ]\n",
      "[[0.7684792  0.79088944 0.80115818]\n",
      " [0.80120727 0.79156249 0.76229217]\n",
      " [0.76266483 0.76537152 0.7817991 ]] [0.78201516 0.76587278 0.77772754]\n",
      "[[0.80120727 0.79156249 0.76229217]\n",
      " [0.76266483 0.76537152 0.7817991 ]\n",
      " [0.78201516 0.76587278 0.77772754]] [0.77776762 0.76389522 0.75539276]\n",
      "[[0.76266483 0.76537152 0.7817991 ]\n",
      " [0.78201516 0.76587278 0.77772754]\n",
      " [0.77776762 0.76389522 0.75539276]] [0.75577605 0.77695034 0.79040905]\n",
      "[[0.78201516 0.76587278 0.77772754]\n",
      " [0.77776762 0.76389522 0.75539276]\n",
      " [0.75577605 0.77695034 0.79040905]] [0.79072433 0.79851989 0.81176537]\n",
      "[[0.77776762 0.76389522 0.75539276]\n",
      " [0.75577605 0.77695034 0.79040905]\n",
      " [0.79072433 0.79851989 0.81176537]] [0.81198965 0.81276073 0.80771306]\n",
      "[[0.75577605 0.77695034 0.79040905]\n",
      " [0.79072433 0.79851989 0.81176537]\n",
      " [0.81198965 0.81276073 0.80771306]] [0.80787813 0.83686346 0.78097514]\n",
      "[[0.79072433 0.79851989 0.81176537]\n",
      " [0.81198965 0.81276073 0.80771306]\n",
      " [0.80787813 0.83686346 0.78097514]] [0.78118001 0.77039873 0.7561304 ]\n",
      "[[0.81198965 0.81276073 0.80771306]\n",
      " [0.80787813 0.83686346 0.78097514]\n",
      " [0.78118001 0.77039873 0.7561304 ]] [0.75632916 0.74395204 0.74812527]\n",
      "[[0.80787813 0.83686346 0.78097514]\n",
      " [0.78118001 0.77039873 0.7561304 ]\n",
      " [0.75632916 0.74395204 0.74812527]] [0.74810971 0.74112694 0.74757482]\n",
      "[[0.78118001 0.77039873 0.7561304 ]\n",
      " [0.75632916 0.74395204 0.74812527]\n",
      " [0.74810971 0.74112694 0.74757482]] [0.74792756 0.76141444 0.77879528]\n",
      "[[0.75632916 0.74395204 0.74812527]\n",
      " [0.74810971 0.74112694 0.74757482]\n",
      " [0.74792756 0.76141444 0.77879528]] [0.7787351  0.76839246 0.70490126]\n",
      "[[0.74810971 0.74112694 0.74757482]\n",
      " [0.74792756 0.76141444 0.77879528]\n",
      " [0.7787351  0.76839246 0.70490126]] [0.7052339  0.7270536  0.74037207]\n",
      "[[0.74792756 0.76141444 0.77879528]\n",
      " [0.7787351  0.76839246 0.70490126]\n",
      " [0.7052339  0.7270536  0.74037207]] [0.7406291  0.75443164 0.75718814]\n",
      "[[0.7787351  0.76839246 0.70490126]\n",
      " [0.7052339  0.7270536  0.74037207]\n",
      " [0.7406291  0.75443164 0.75718814]] [0.75727296 0.74242568 0.72044379]\n",
      "[[0.7052339  0.7270536  0.74037207]\n",
      " [0.7406291  0.75443164 0.75718814]\n",
      " [0.75727296 0.74242568 0.72044379]] [0.72056349 0.70736675 0.69219275]\n",
      "[[0.7406291  0.75443164 0.75718814]\n",
      " [0.75727296 0.74242568 0.72044379]\n",
      " [0.72056349 0.70736675 0.69219275]] [0.69238338 0.70286362 0.71600133]\n",
      "[[0.75727296 0.74242568 0.72044379]\n",
      " [0.72056349 0.70736675 0.69219275]\n",
      " [0.69238338 0.70286362 0.71600133]] [0.71634333 0.71690886 0.71790276]\n",
      "[[0.72056349 0.70736675 0.69219275]\n",
      " [0.69238338 0.70286362 0.71600133]\n",
      " [0.71634333 0.71690886 0.71790276]] [0.71810884 0.70293074 0.69331585]\n",
      "[[0.69238338 0.70286362 0.71600133]\n",
      " [0.71634333 0.71690886 0.71790276]\n",
      " [0.71810884 0.70293074 0.69331585]] [0.69348035 0.74291823 0.75480618]\n",
      "[[0.71634333 0.71690886 0.71790276]\n",
      " [0.71810884 0.70293074 0.69331585]\n",
      " [0.69348035 0.74291823 0.75480618]] [0.75497235 0.73934756 0.65621452]\n",
      "[[0.71810884 0.70293074 0.69331585]\n",
      " [0.69348035 0.74291823 0.75480618]\n",
      " [0.75497235 0.73934756 0.65621452]] [0.6563898  0.63992735 0.63935073]\n",
      "[[0.69348035 0.74291823 0.75480618]\n",
      " [0.75497235 0.73934756 0.65621452]\n",
      " [0.6563898  0.63992735 0.63935073]] [0.63963569 0.62439562 0.62233699]\n",
      "[[0.75497235 0.73934756 0.65621452]\n",
      " [0.6563898  0.63992735 0.63935073]\n",
      " [0.63963569 0.62439562 0.62233699]] [0.62260114 0.60470006 0.57679538]\n",
      "[[0.6563898  0.63992735 0.63935073]\n",
      " [0.63963569 0.62439562 0.62233699]\n",
      " [0.62260114 0.60470006 0.57679538]] [0.57704647 0.56446397 0.45802969]\n",
      "[[0.63963569 0.62439562 0.62233699]\n",
      " [0.62260114 0.60470006 0.57679538]\n",
      " [0.57704647 0.56446397 0.45802969]] [0.45750711 0.51339353 0.480946  ]\n",
      "[[0.62260114 0.60470006 0.57679538]\n",
      " [0.57704647 0.56446397 0.45802969]\n",
      " [0.45750711 0.51339353 0.480946  ]] [0.48094953 0.4950826  0.41507943]\n",
      "[[0.57704647 0.56446397 0.45802969]\n",
      " [0.45750711 0.51339353 0.480946  ]\n",
      " [0.48094953 0.4950826  0.41507943]] [0.41529915 0.43285429 0.4185959 ]\n",
      "[[0.45750711 0.51339353 0.480946  ]\n",
      " [0.48094953 0.4950826  0.41507943]\n",
      " [0.41529915 0.43285429 0.4185959 ]] [0.41827238 0.46088624 0.42602529]\n",
      "[[0.48094953 0.4950826  0.41507943]\n",
      " [0.41529915 0.43285429 0.4185959 ]\n",
      " [0.41827238 0.46088624 0.42602529]] [0.42631455 0.4378918  0.45185238]\n",
      "[[0.41529915 0.43285429 0.4185959 ]\n",
      " [0.41827238 0.46088624 0.42602529]\n",
      " [0.42631455 0.4378918  0.45185238]] [0.45198002 0.47292969 0.48985449]\n",
      "[[0.41827238 0.46088624 0.42602529]\n",
      " [0.42631455 0.4378918  0.45185238]\n",
      " [0.45198002 0.47292969 0.48985449]] [0.49004803 0.47284018 0.44432841]\n",
      "[[0.42631455 0.4378918  0.45185238]\n",
      " [0.45198002 0.47292969 0.48985449]\n",
      " [0.49004803 0.47284018 0.44432841]] [0.44452364 0.4536514  0.46209884]\n",
      "[[0.45198002 0.47292969 0.48985449]\n",
      " [0.49004803 0.47284018 0.44432841]\n",
      " [0.44452364 0.4536514  0.46209884]] [0.46226878 0.45127111 0.40825826]\n",
      "[[0.49004803 0.47284018 0.44432841]\n",
      " [0.44452364 0.4536514  0.46209884]\n",
      " [0.46226878 0.45127111 0.40825826]] [0.40846797 0.44536654 0.45857836]\n",
      "[[0.44452364 0.4536514  0.46209884]\n",
      " [0.46226878 0.45127111 0.40825826]\n",
      " [0.40846797 0.44536654 0.45857836]] [0.45868991 0.45272428 0.42342531]\n",
      "[[0.46226878 0.45127111 0.40825826]\n",
      " [0.40846797 0.44536654 0.45857836]\n",
      " [0.45868991 0.45272428 0.42342531]] [0.42360628 0.41892034 0.43073269]\n",
      "[[0.40846797 0.44536654 0.45857836]\n",
      " [0.45868991 0.45272428 0.42342531]\n",
      " [0.42360628 0.41892034 0.43073269]] [0.43095013 0.44521291 0.45887473]\n",
      "[[0.45868991 0.45272428 0.42342531]\n",
      " [0.42360628 0.41892034 0.43073269]\n",
      " [0.43095013 0.44521291 0.45887473]] [0.45863552 0.45038743 0.42021082]\n",
      "[[0.42360628 0.41892034 0.43073269]\n",
      " [0.43095013 0.44521291 0.45887473]\n",
      " [0.45863552 0.45038743 0.42021082]] [0.42048914 0.42474705 0.43778352]\n",
      "[[0.43095013 0.44521291 0.45887473]\n",
      " [0.45863552 0.45038743 0.42021082]\n",
      " [0.42048914 0.42474705 0.43778352]] [0.43791666 0.43679179 0.43484068]\n",
      "[[0.45863552 0.45038743 0.42021082]\n",
      " [0.42048914 0.42474705 0.43778352]\n",
      " [0.43791666 0.43679179 0.43484068]] [0.43512712 0.42662571 0.42552404]\n",
      "[[0.42048914 0.42474705 0.43778352]\n",
      " [0.43791666 0.43679179 0.43484068]\n",
      " [0.43512712 0.42662571 0.42552404]] [0.42522529 0.41132068 0.40533206]\n",
      "[[0.43791666 0.43679179 0.43484068]\n",
      " [0.43512712 0.42662571 0.42552404]\n",
      " [0.42522529 0.41132068 0.40533206]] [0.40538239 0.39460753 0.41124543]\n",
      "[[0.43512712 0.42662571 0.42552404]\n",
      " [0.42522529 0.41132068 0.40533206]\n",
      " [0.40538239 0.39460753 0.41124543]] [0.41792374 0.41606616 0.43116612]\n",
      "[[0.42522529 0.41132068 0.40533206]\n",
      " [0.40538239 0.39460753 0.41124543]\n",
      " [0.41792374 0.41606616 0.43116612]] [0.43129402 0.49307933 0.50315304]\n",
      "[[0.40538239 0.39460753 0.41124543]\n",
      " [0.41792374 0.41606616 0.43116612]\n",
      " [0.43129402 0.49307933 0.50315304]] [0.50329177 0.50251058 0.50523394]\n",
      "[[0.41792374 0.41606616 0.43116612]\n",
      " [0.43129402 0.49307933 0.50315304]\n",
      " [0.50329177 0.50251058 0.50523394]] [0.50546037 0.49331978 0.44231323]\n",
      "[[0.43129402 0.49307933 0.50315304]\n",
      " [0.50329177 0.50251058 0.50523394]\n",
      " [0.50546037 0.49331978 0.44231323]] [0.44239204 0.45083188 0.46341301]\n",
      "[[0.50329177 0.50251058 0.50523394]\n",
      " [0.50546037 0.49331978 0.44231323]\n",
      " [0.44239204 0.45083188 0.46341301]] [0.4636367  0.4517209  0.43932415]\n",
      "[[0.50546037 0.49331978 0.44231323]\n",
      " [0.44239204 0.45083188 0.46341301]\n",
      " [0.4636367  0.4517209  0.43932415]] [0.43959005 0.42965407 0.44338127]\n",
      "[[0.44239204 0.45083188 0.46341301]\n",
      " [0.4636367  0.4517209  0.43932415]\n",
      " [0.43959005 0.42965407 0.44338127]] [0.44366203 0.43553398 0.44570929]\n",
      "[[0.4636367  0.4517209  0.43932415]\n",
      " [0.43959005 0.42965407 0.44338127]\n",
      " [0.44366203 0.43553398 0.44570929]] [0.4460351  0.48502689 0.49192399]\n",
      "[[0.43959005 0.42965407 0.44338127]\n",
      " [0.44366203 0.43553398 0.44570929]\n",
      " [0.4460351  0.48502689 0.49192399]] [0.49217488 0.47863093 0.48513094]\n",
      "[[0.44366203 0.43553398 0.44570929]\n",
      " [0.4460351  0.48502689 0.49192399]\n",
      " [0.49217488 0.47863093 0.48513094]] [0.48522099 0.47121767 0.45542231]\n",
      "[[0.4460351  0.48502689 0.49192399]\n",
      " [0.49217488 0.47863093 0.48513094]\n",
      " [0.48522099 0.47121767 0.45542231]] [0.45566415 0.45097563 0.45219118]\n",
      "[[0.49217488 0.47863093 0.48513094]\n",
      " [0.48522099 0.47121767 0.45542231]\n",
      " [0.45566415 0.45097563 0.45219118]] [0.45235079 0.43955689 0.41973399]\n",
      "[[0.48522099 0.47121767 0.45542231]\n",
      " [0.45566415 0.45097563 0.45219118]\n",
      " [0.45235079 0.43955689 0.41973399]] [0.41996951 0.41304755 0.39691108]\n",
      "[[0.45566415 0.45097563 0.45219118]\n",
      " [0.45235079 0.43955689 0.41973399]\n",
      " [0.41996951 0.41304755 0.39691108]] [0.39751769 0.38479988 0.34646157]\n",
      "[[0.45235079 0.43955689 0.41973399]\n",
      " [0.41996951 0.41304755 0.39691108]\n",
      " [0.39751769 0.38479988 0.34646157]] [0.3458695  0.3311746  0.21150357]\n",
      "[[0.41996951 0.41304755 0.39691108]\n",
      " [0.39751769 0.38479988 0.34646157]\n",
      " [0.3458695  0.3311746  0.21150357]] [0.21170547 0.21253843 0.20264595]\n",
      "[[0.39751769 0.38479988 0.34646157]\n",
      " [0.3458695  0.3311746  0.21150357]\n",
      " [0.21170547 0.21253843 0.20264595]] [0.20251022 0.20071831 0.21420102]\n",
      "[[0.3458695  0.3311746  0.21150357]\n",
      " [0.21170547 0.21253843 0.20264595]\n",
      " [0.20251022 0.20071831 0.21420102]] [0.21449377 0.20782553 0.1450313 ]\n",
      "[[0.21170547 0.21253843 0.20264595]\n",
      " [0.20251022 0.20071831 0.21420102]\n",
      " [0.21449377 0.20782553 0.1450313 ]] [0.14533469 0.15676    0.14786704]\n",
      "[[0.20251022 0.20071831 0.21420102]\n",
      " [0.21449377 0.20782553 0.1450313 ]\n",
      " [0.14533469 0.15676    0.14786704]] [0.1481037  0.140825   0.10197338]\n",
      "[[0.21449377 0.20782553 0.1450313 ]\n",
      " [0.14533469 0.15676    0.14786704]\n",
      " [0.1481037  0.140825   0.10197338]] [0.10193031 0.13918464 0.1504489 ]\n",
      "[[0.14533469 0.15676    0.14786704]\n",
      " [0.1481037  0.140825   0.10197338]\n",
      " [0.10193031 0.13918464 0.1504489 ]] [0.15062765 0.14639396 0.15190937]\n",
      "[[0.1481037  0.140825   0.10197338]\n",
      " [0.10193031 0.13918464 0.1504489 ]\n",
      " [0.15062765 0.14639396 0.15190937]] [0.15191966 0.1686127  0.15541524]\n",
      "[[0.10193031 0.13918464 0.1504489 ]\n",
      " [0.15062765 0.14639396 0.15190937]\n",
      " [0.15191966 0.1686127  0.15541524]] [0.1558698  0.14395717 0.13257421]\n",
      "[[0.15062765 0.14639396 0.15190937]\n",
      " [0.15191966 0.1686127  0.15541524]\n",
      " [0.1558698  0.14395717 0.13257421]] [0.13273433 0.15338149 0.16726176]\n",
      "[[0.15191966 0.1686127  0.15541524]\n",
      " [0.1558698  0.14395717 0.13257421]\n",
      " [0.13273433 0.15338149 0.16726176]] [0.16740063 0.16397264 0.17186361]\n",
      "[[0.1558698  0.14395717 0.13257421]\n",
      " [0.13273433 0.15338149 0.16726176]\n",
      " [0.16740063 0.16397264 0.17186361]] [0.17210348 0.16548034 0.18040827]\n",
      "[[0.13273433 0.15338149 0.16726176]\n",
      " [0.16740063 0.16397264 0.17186361]\n",
      " [0.17210348 0.16548034 0.18040827]] [0.18040303 0.17373605 0.16541249]\n",
      "[[0.16740063 0.16397264 0.17186361]\n",
      " [0.17210348 0.16548034 0.18040827]\n",
      " [0.18040303 0.17373605 0.16541249]] [0.1656197  0.1641351  0.15620066]\n",
      "[[0.17210348 0.16548034 0.18040827]\n",
      " [0.18040303 0.17373605 0.16541249]\n",
      " [0.1656197  0.1641351  0.15620066]] [0.15625279 0.15428186 0.14184252]\n",
      "[[0.18040303 0.17373605 0.16541249]\n",
      " [0.1656197  0.1641351  0.15620066]\n",
      " [0.15625279 0.15428186 0.14184252]] [0.14203398 0.12914292 0.13626739]\n",
      "[[0.1656197  0.1641351  0.15620066]\n",
      " [0.15625279 0.15428186 0.14184252]\n",
      " [0.14203398 0.12914292 0.13626739]] [0.13657669 0.12213791 0.12618808]\n",
      "[[0.15625279 0.15428186 0.14184252]\n",
      " [0.14203398 0.12914292 0.13626739]\n",
      " [0.13657669 0.12213791 0.12618808]] [0.12748923 0.13757785 0.10991963]\n",
      "[[0.14203398 0.12914292 0.13626739]\n",
      " [0.13657669 0.12213791 0.12618808]\n",
      " [0.12748923 0.13757785 0.10991963]] [0.11026297 0.09796824 0.1090638 ]\n",
      "[[0.13657669 0.12213791 0.12618808]\n",
      " [0.12748923 0.13757785 0.10991963]\n",
      " [0.11026297 0.09796824 0.1090638 ]] [0.10922933 0.10382747 0.11079432]\n",
      "[[0.12748923 0.13757785 0.10991963]\n",
      " [0.11026297 0.09796824 0.1090638 ]\n",
      " [0.10922933 0.10382747 0.11079432]] [0.11097264 0.12583172 0.14028395]\n",
      "[[0.11026297 0.09796824 0.1090638 ]\n",
      " [0.10922933 0.10382747 0.11079432]\n",
      " [0.11097264 0.12583172 0.14028395]] [0.1402718  0.13766564 0.13898507]\n",
      "[[0.10922933 0.10382747 0.11079432]\n",
      " [0.11097264 0.12583172 0.14028395]\n",
      " [0.1402718  0.13766564 0.13898507]] [0.13930148 0.13641108 0.15029026]\n",
      "[[0.11097264 0.12583172 0.14028395]\n",
      " [0.1402718  0.13766564 0.13898507]\n",
      " [0.13930148 0.13641108 0.15029026]] [0.15045222 0.17336198 0.18467774]\n",
      "[[0.1402718  0.13766564 0.13898507]\n",
      " [0.13930148 0.13641108 0.15029026]\n",
      " [0.15045222 0.17336198 0.18467774]] [0.18484382 0.19042326 0.18763019]\n",
      "[[0.13930148 0.13641108 0.15029026]\n",
      " [0.15045222 0.17336198 0.18467774]\n",
      " [0.18484382 0.19042326 0.18763019]] [0.1873592  0.17667049 0.18324519]\n",
      "[[0.15045222 0.17336198 0.18467774]\n",
      " [0.18484382 0.19042326 0.18763019]\n",
      " [0.1873592  0.17667049 0.18324519]] [0.18338921 0.16768448 0.16014564]\n",
      "[[0.18484382 0.19042326 0.18763019]\n",
      " [0.1873592  0.17667049 0.18324519]\n",
      " [0.18338921 0.16768448 0.16014564]] [0.16019312 0.14460439 0.13205422]\n",
      "[[0.1873592  0.17667049 0.18324519]\n",
      " [0.18338921 0.16768448 0.16014564]\n",
      " [0.16019312 0.14460439 0.13205422]] [0.132225   0.11906838 0.11164152]\n",
      "[[0.18338921 0.16768448 0.16014564]\n",
      " [0.16019312 0.14460439 0.13205422]\n",
      " [0.132225   0.11906838 0.11164152]] [0.11187741 0.12471041 0.13967825]\n"
     ]
    },
    {
     "name": "stdout",
     "output_type": "stream",
     "text": [
      "[[0.16019312 0.14460439 0.13205422]\n",
      " [0.132225   0.11906838 0.11164152]\n",
      " [0.11187741 0.12471041 0.13967825]] [0.13983338 0.14251671 0.15097444]\n",
      "[[0.132225   0.11906838 0.11164152]\n",
      " [0.11187741 0.12471041 0.13967825]\n",
      " [0.13983338 0.14251671 0.15097444]] [0.15125229 0.15345947 0.1593842 ]\n",
      "[[0.11187741 0.12471041 0.13967825]\n",
      " [0.13983338 0.14251671 0.15097444]\n",
      " [0.15125229 0.15345947 0.1593842 ]] [0.15949067 0.16527585 0.17055862]\n",
      "[[0.13983338 0.14251671 0.15097444]\n",
      " [0.15125229 0.15345947 0.1593842 ]\n",
      " [0.15949067 0.16527585 0.17055862]] [0.17088584 0.16798481 0.15758537]\n",
      "[[0.15125229 0.15345947 0.1593842 ]\n",
      " [0.15949067 0.16527585 0.17055862]\n",
      " [0.17088584 0.16798481 0.15758537]] [0.15784293 0.20041552 0.21144993]\n",
      "[[0.15949067 0.16527585 0.17055862]\n",
      " [0.17088584 0.16798481 0.15758537]\n",
      " [0.15784293 0.20041552 0.21144993]] [0.21106973 0.23289453 0.23997861]\n",
      "[[0.17088584 0.16798481 0.15758537]\n",
      " [0.15784293 0.20041552 0.21144993]\n",
      " [0.21106973 0.23289453 0.23997861]] [0.24028373 0.24953896 0.23500042]\n",
      "[[0.15784293 0.20041552 0.21144993]\n",
      " [0.21106973 0.23289453 0.23997861]\n",
      " [0.24028373 0.24953896 0.23500042]] [0.23523268 0.22414154 0.23288215]\n",
      "[[0.21106973 0.23289453 0.23997861]\n",
      " [0.24028373 0.24953896 0.23500042]\n",
      " [0.23523268 0.22414154 0.23288215]] [0.23304009 0.23305049 0.21868795]\n",
      "[[0.24028373 0.24953896 0.23500042]\n",
      " [0.23523268 0.22414154 0.23288215]\n",
      " [0.23304009 0.23305049 0.21868795]] [0.21861947 0.21122724 0.21081193]\n",
      "[[0.23523268 0.22414154 0.23288215]\n",
      " [0.23304009 0.23305049 0.21868795]\n",
      " [0.21861947 0.21122724 0.21081193]] [0.21099586 0.21112643 0.21534768]\n",
      "[[0.23304009 0.23305049 0.21868795]\n",
      " [0.21861947 0.21122724 0.21081193]\n",
      " [0.21099586 0.21112643 0.21534768]] [0.21546779 0.2009209  0.17596876]\n",
      "[[0.21861947 0.21122724 0.21081193]\n",
      " [0.21099586 0.21112643 0.21534768]\n",
      " [0.21546779 0.2009209  0.17596876]] [0.17612916 0.16046074 0.17211923]\n",
      "[[0.21099586 0.21112643 0.21534768]\n",
      " [0.21546779 0.2009209  0.17596876]\n",
      " [0.17612916 0.16046074 0.17211923]] [0.17243689 0.21151996 0.2254929 ]\n",
      "[[0.21546779 0.2009209  0.17596876]\n",
      " [0.17612916 0.16046074 0.17211923]\n",
      " [0.17243689 0.21151996 0.2254929 ]] [0.22577524 0.24682651 0.25432442]\n",
      "[[0.17612916 0.16046074 0.17211923]\n",
      " [0.17243689 0.21151996 0.2254929 ]\n",
      " [0.22577524 0.24682651 0.25432442]] [0.25455452 0.25261647 0.25308529]\n",
      "[[0.17243689 0.21151996 0.2254929 ]\n",
      " [0.22577524 0.24682651 0.25432442]\n",
      " [0.25455452 0.25261647 0.25308529]] [0.25302666 0.26134283 0.2483999 ]\n",
      "[[0.22577524 0.24682651 0.25432442]\n",
      " [0.25455452 0.25261647 0.25308529]\n",
      " [0.25302666 0.26134283 0.2483999 ]] [0.24845681 0.24717746 0.23832016]\n",
      "[[0.25455452 0.25261647 0.25308529]\n",
      " [0.25302666 0.26134283 0.2483999 ]\n",
      " [0.24845681 0.24717746 0.23832016]] [0.23850083 0.22654355 0.23760367]\n",
      "[[0.25302666 0.26134283 0.2483999 ]\n",
      " [0.24845681 0.24717746 0.23832016]\n",
      " [0.23850083 0.22654355 0.23760367]] [0.23760784 0.22498086 0.2269945 ]\n",
      "[[0.24845681 0.24717746 0.23832016]\n",
      " [0.23850083 0.22654355 0.23760367]\n",
      " [0.23760784 0.22498086 0.2269945 ]] [0.22727998 0.23012035 0.22283996]\n",
      "[[0.23850083 0.22654355 0.23760367]\n",
      " [0.23760784 0.22498086 0.2269945 ]\n",
      " [0.22727998 0.23012035 0.22283996]] [0.22307826 0.21816323 0.21603562]\n",
      "[[0.23760784 0.22498086 0.2269945 ]\n",
      " [0.22727998 0.23012035 0.22283996]\n",
      " [0.22307826 0.21816323 0.21603562]] [0.21608903 0.22522548 0.23681813]\n",
      "[[0.22727998 0.23012035 0.22283996]\n",
      " [0.22307826 0.21816323 0.21603562]\n",
      " [0.21608903 0.22522548 0.23681813]] [0.23707083 0.22220147 0.22646297]\n",
      "[[0.22307826 0.21816323 0.21603562]\n",
      " [0.21608903 0.22522548 0.23681813]\n",
      " [0.23707083 0.22220147 0.22646297]] [0.22671812 0.22322075 0.23323765]\n",
      "[[0.21608903 0.22522548 0.23681813]\n",
      " [0.23707083 0.22220147 0.22646297]\n",
      " [0.22671812 0.22322075 0.23323765]] [0.23353814 0.24975481 0.2532385 ]\n",
      "[[0.23707083 0.22220147 0.22646297]\n",
      " [0.22671812 0.22322075 0.23323765]\n",
      " [0.23353814 0.24975481 0.2532385 ]] [0.25348968 0.24017146 0.23287235]\n",
      "[[0.22671812 0.22322075 0.23323765]\n",
      " [0.23353814 0.24975481 0.2532385 ]\n",
      " [0.25348968 0.24017146 0.23287235]] [0.23301315 0.24735876 0.2575997 ]\n",
      "[[0.23353814 0.24975481 0.2532385 ]\n",
      " [0.25348968 0.24017146 0.23287235]\n",
      " [0.23301315 0.24735876 0.2575997 ]] [0.25781053 0.26919765 0.2579118 ]\n",
      "[[0.25348968 0.24017146 0.23287235]\n",
      " [0.23301315 0.24735876 0.2575997 ]\n",
      " [0.25781053 0.26919765 0.2579118 ]] [0.25809017 0.25631629 0.27196833]\n",
      "[[0.23301315 0.24735876 0.2575997 ]\n",
      " [0.25781053 0.26919765 0.2579118 ]\n",
      " [0.25809017 0.25631629 0.27196833]] [0.27213879 0.27037319 0.27263913]\n",
      "[[0.25781053 0.26919765 0.2579118 ]\n",
      " [0.25809017 0.25631629 0.27196833]\n",
      " [0.27213879 0.27037319 0.27263913]] [0.27298708 0.27398141 0.26933296]\n",
      "[[0.25809017 0.25631629 0.27196833]\n",
      " [0.27213879 0.27037319 0.27263913]\n",
      " [0.27298708 0.27398141 0.26933296]] [0.26949089 0.27902875 0.26357633]\n",
      "[[0.27213879 0.27037319 0.27263913]\n",
      " [0.27298708 0.27398141 0.26933296]\n",
      " [0.26949089 0.27902875 0.26357633]] [0.26342358 0.25053155 0.25556831]\n",
      "[[0.27298708 0.27398141 0.26933296]\n",
      " [0.26949089 0.27902875 0.26357633]\n",
      " [0.26342358 0.25053155 0.25556831]] [0.25569435 0.25614328 0.2382918 ]\n",
      "[[0.26949089 0.27902875 0.26357633]\n",
      " [0.26342358 0.25053155 0.25556831]\n",
      " [0.25569435 0.25614328 0.2382918 ]] [0.23863723 0.22965486 0.23440083]\n",
      "[[0.26342358 0.25053155 0.25556831]\n",
      " [0.25569435 0.25614328 0.2382918 ]\n",
      " [0.23863723 0.22965486 0.23440083]] [0.23460477 0.21864393 0.16068555]\n",
      "[[0.25569435 0.25614328 0.2382918 ]\n",
      " [0.23863723 0.22965486 0.23440083]\n",
      " [0.23460477 0.21864393 0.16068555]] [0.16071368 0.16013673 0.16979293]\n",
      "[[0.23863723 0.22965486 0.23440083]\n",
      " [0.23460477 0.21864393 0.16068555]\n",
      " [0.16071368 0.16013673 0.16979293]] [0.16979195 0.17012735 0.18141158]\n",
      "[[0.23460477 0.21864393 0.16068555]\n",
      " [0.16071368 0.16013673 0.16979293]\n",
      " [0.16979195 0.17012735 0.18141158]] [0.18150703 0.16581172 0.17714328]\n",
      "[[0.16071368 0.16013673 0.16979293]\n",
      " [0.16979195 0.17012735 0.18141158]\n",
      " [0.18150703 0.16581172 0.17714328]] [0.1773896  0.16941607 0.18122113]\n",
      "[[0.16979195 0.17012735 0.18141158]\n",
      " [0.18150703 0.16581172 0.17714328]\n",
      " [0.1773896  0.16941607 0.18122113]] [0.18134893 0.17371569 0.17702053]\n",
      "[[0.18150703 0.16581172 0.17714328]\n",
      " [0.1773896  0.16941607 0.18122113]\n",
      " [0.18134893 0.17371569 0.17702053]] [0.17721324 0.17392177 0.18351974]\n",
      "[[0.1773896  0.16941607 0.18122113]\n",
      " [0.18134893 0.17371569 0.17702053]\n",
      " [0.17721324 0.17392177 0.18351974]] [0.18354725 0.1744015  0.14119175]\n",
      "[[0.18134893 0.17371569 0.17702053]\n",
      " [0.17721324 0.17392177 0.18351974]\n",
      " [0.18354725 0.1744015  0.14119175]] [0.14144393 0.12840845 0.13430122]\n",
      "[[0.17721324 0.17392177 0.18351974]\n",
      " [0.18354725 0.1744015  0.14119175]\n",
      " [0.14144393 0.12840845 0.13430122]] [0.13445267 0.12207177 0.12088757]\n",
      "[[0.18354725 0.1744015  0.14119175]\n",
      " [0.14144393 0.12840845 0.13430122]\n",
      " [0.13445267 0.12207177 0.12088757]] [0.12100717 0.12893266 0.1423905 ]\n",
      "[[0.14144393 0.12840845 0.13430122]\n",
      " [0.13445267 0.12207177 0.12088757]\n",
      " [0.12100717 0.12893266 0.1423905 ]] [0.14258462 0.1347498  0.12656948]\n",
      "[[0.13445267 0.12207177 0.12088757]\n",
      " [0.12100717 0.12893266 0.1423905 ]\n",
      " [0.14258462 0.1347498  0.12656948]] [0.12682975 0.13092826 0.13455456]\n",
      "[[0.12100717 0.12893266 0.1423905 ]\n",
      " [0.14258462 0.1347498  0.12656948]\n",
      " [0.12682975 0.13092826 0.13455456]] [0.13475143 0.1239357  0.13699714]\n",
      "[[0.14258462 0.1347498  0.12656948]\n",
      " [0.12682975 0.13092826 0.13455456]\n",
      " [0.13475143 0.1239357  0.13699714]] [0.13713738 0.13031815 0.13202943]\n",
      "[[0.12682975 0.13092826 0.13455456]\n",
      " [0.13475143 0.1239357  0.13699714]\n",
      " [0.13713738 0.13031815 0.13202943]] [0.13220114 0.11886622 0.12768315]\n",
      "[[0.13475143 0.1239357  0.13699714]\n",
      " [0.13713738 0.13031815 0.13202943]\n",
      " [0.13220114 0.11886622 0.12768315]] [0.12786808 0.11769387 0.13256423]\n",
      "[[0.13713738 0.13031815 0.13202943]\n",
      " [0.13220114 0.11886622 0.12768315]\n",
      " [0.12786808 0.11769387 0.13256423]] [0.13280321 0.11868246 0.12706074]\n",
      "[[0.13220114 0.11886622 0.12768315]\n",
      " [0.12786808 0.11769387 0.13256423]\n",
      " [0.13280321 0.11868246 0.12706074]] [0.12740253 0.12258113 0.09629209]\n",
      "[[0.12786808 0.11769387 0.13256423]\n",
      " [0.13280321 0.11868246 0.12706074]\n",
      " [0.12740253 0.12258113 0.09629209]] [0.09646161 0.09970928 0.11058118]\n",
      "[[0.13280321 0.11868246 0.12706074]\n",
      " [0.12740253 0.12258113 0.09629209]\n",
      " [0.09646161 0.09970928 0.11058118]] [0.11073986 0.09940079 0.11182839]\n",
      "[[0.12740253 0.12258113 0.09629209]\n",
      " [0.09646161 0.09970928 0.11058118]\n",
      " [0.11073986 0.09940079 0.11182839]] [0.11194585 0.16292005 0.17658278]\n",
      "[[0.09646161 0.09970928 0.11058118]\n",
      " [0.11073986 0.09940079 0.11182839]\n",
      " [0.11194585 0.16292005 0.17658278]] [0.1766277  0.17299944 0.18603358]\n",
      "[[0.11073986 0.09940079 0.11182839]\n",
      " [0.11194585 0.16292005 0.17658278]\n",
      " [0.1766277  0.17299944 0.18603358]] [0.1861505  0.17332228 0.18883412]\n",
      "[[0.11194585 0.16292005 0.17658278]\n",
      " [0.1766277  0.17299944 0.18603358]\n",
      " [0.1861505  0.17332228 0.18883412]] [0.18904258 0.19432603 0.20781212]\n",
      "[[0.1766277  0.17299944 0.18603358]\n",
      " [0.1861505  0.17332228 0.18883412]\n",
      " [0.18904258 0.19432603 0.20781212]] [0.20802726 0.20169678 0.14234987]\n",
      "[[0.1861505  0.17332228 0.18883412]\n",
      " [0.18904258 0.19432603 0.20781212]\n",
      " [0.20802726 0.20169678 0.14234987]] [0.13898374 0.13237989 0.1405942 ]\n",
      "[[0.18904258 0.19432603 0.20781212]\n",
      " [0.20802726 0.20169678 0.14234987]\n",
      " [0.13898374 0.13237989 0.1405942 ]] [0.14080647 0.12769822 0.12355173]\n",
      "[[0.20802726 0.20169678 0.14234987]\n",
      " [0.13898374 0.13237989 0.1405942 ]\n",
      " [0.14080647 0.12769822 0.12355173]] [0.12381231 0.11363967 0.12580477]\n",
      "[[0.13898374 0.13237989 0.1405942 ]\n",
      " [0.14080647 0.12769822 0.12355173]\n",
      " [0.12381231 0.11363967 0.12580477]] [0.12611786 0.12280924 0.13701089]\n",
      "[[0.14080647 0.12769822 0.12355173]\n",
      " [0.12381231 0.11363967 0.12580477]\n",
      " [0.12611786 0.12280924 0.13701089]] [0.13717407 0.12170046 0.11465909]\n",
      "[[0.12381231 0.11363967 0.12580477]\n",
      " [0.12611786 0.12280924 0.13701089]\n",
      " [0.13717407 0.12170046 0.11465909]] [0.11480087 0.10637856 0.11859309]\n",
      "[[0.12611786 0.12280924 0.13701089]\n",
      " [0.13717407 0.12170046 0.11465909]\n",
      " [0.11480087 0.10637856 0.11859309]] [0.11881101 0.10521554 0.09796897]\n",
      "[[0.13717407 0.12170046 0.11465909]\n",
      " [0.11480087 0.10637856 0.11859309]\n",
      " [0.11881101 0.10521554 0.09796897]] [0.09815381 0.10748275 0.08712915]\n"
     ]
    },
    {
     "name": "stdout",
     "output_type": "stream",
     "text": [
      "[[0.11480087 0.10637856 0.11859309]\n",
      " [0.11881101 0.10521554 0.09796897]\n",
      " [0.09815381 0.10748275 0.08712915]] [0.08689454 0.10064345 0.1144711 ]\n",
      "[[0.11881101 0.10521554 0.09796897]\n",
      " [0.09815381 0.10748275 0.08712915]\n",
      " [0.08689454 0.10064345 0.1144711 ]] [0.11460602 0.10088727 0.11081208]\n",
      "[[0.09815381 0.10748275 0.08712915]\n",
      " [0.08689454 0.10064345 0.1144711 ]\n",
      " [0.11460602 0.10088727 0.11081208]] [0.1109624  0.09603474 0.09942809]\n",
      "[[0.08689454 0.10064345 0.1144711 ]\n",
      " [0.11460602 0.10088727 0.11081208]\n",
      " [0.1109624  0.09603474 0.09942809]] [0.09957537 0.09052283 0.09516923]\n",
      "[[0.11460602 0.10088727 0.11081208]\n",
      " [0.1109624  0.09603474 0.09942809]\n",
      " [0.09957537 0.09052283 0.09516923]] [0.09539504 0.09492509 0.10844559]\n",
      "[[0.1109624  0.09603474 0.09942809]\n",
      " [0.09957537 0.09052283 0.09516923]\n",
      " [0.09539504 0.09492509 0.10844559]] [0.10858983 0.12833557 0.10490611]\n",
      "[[0.09957537 0.09052283 0.09516923]\n",
      " [0.09539504 0.09492509 0.10844559]\n",
      " [0.10858983 0.12833557 0.10490611]] [0.10488911 0.10791351 0.11488684]\n",
      "[[0.09539504 0.09492509 0.10844559]\n",
      " [0.10858983 0.12833557 0.10490611]\n",
      " [0.10488911 0.10791351 0.11488684]] [0.11509155 0.10480116 0.11950607]\n",
      "[[0.10858983 0.12833557 0.10490611]\n",
      " [0.10488911 0.10791351 0.11488684]\n",
      " [0.11509155 0.10480116 0.11950607]] [0.11968995 0.12115435 0.11504683]\n",
      "[[0.10488911 0.10791351 0.11488684]\n",
      " [0.11509155 0.10480116 0.11950607]\n",
      " [0.11968995 0.12115435 0.11504683]] [0.11519656 0.1010909  0.11126845]\n",
      "[[0.11509155 0.10480116 0.11950607]\n",
      " [0.11968995 0.12115435 0.11504683]\n",
      " [0.11519656 0.1010909  0.11126845]] [0.11143153 0.09792302 0.10280881]\n",
      "[[0.11968995 0.12115435 0.11504683]\n",
      " [0.11519656 0.1010909  0.11126845]\n",
      " [0.11143153 0.09792302 0.10280881]] [0.1029774  0.10682031 0.12110114]\n",
      "[[0.11519656 0.1010909  0.11126845]\n",
      " [0.11143153 0.09792302 0.10280881]\n",
      " [0.1029774  0.10682031 0.12110114]] [0.12127331 0.12965142 0.14361688]\n",
      "[[0.11143153 0.09792302 0.10280881]\n",
      " [0.1029774  0.10682031 0.12110114]\n",
      " [0.12127331 0.12965142 0.14361688]] [0.14376188 0.12850184 0.13805704]\n",
      "[[0.1029774  0.10682031 0.12110114]\n",
      " [0.12127331 0.12965142 0.14361688]\n",
      " [0.14376188 0.12850184 0.13805704]] [0.13824132 0.13053252 0.13157713]\n",
      "[[0.12127331 0.12965142 0.14361688]\n",
      " [0.14376188 0.12850184 0.13805704]\n",
      " [0.13824132 0.13053252 0.13157713]] [0.13181723 0.11899426 0.11867897]\n",
      "[[0.14376188 0.12850184 0.13805704]\n",
      " [0.13824132 0.13053252 0.13157713]\n",
      " [0.13181723 0.11899426 0.11867897]] [0.11883426 0.10519161 0.11456636]\n",
      "[[0.13824132 0.13053252 0.13157713]\n",
      " [0.13181723 0.11899426 0.11867897]\n",
      " [0.11883426 0.10519161 0.11456636]] [0.11476634 0.10333333 0.11550887]\n",
      "[[0.13181723 0.11899426 0.11867897]\n",
      " [0.11883426 0.10519161 0.11456636]\n",
      " [0.11476634 0.10333333 0.11550887]] [0.11567993 0.1024829  0.10588272]\n",
      "[[0.11883426 0.10519161 0.11456636]\n",
      " [0.11476634 0.10333333 0.11550887]\n",
      " [0.11567993 0.1024829  0.10588272]] [0.10597449 0.09389122 0.10303958]\n",
      "[[0.11476634 0.10333333 0.11550887]\n",
      " [0.11567993 0.1024829  0.10588272]\n",
      " [0.10597449 0.09389122 0.10303958]] [0.10324822 0.09267359 0.10638657]\n",
      "[[0.11567993 0.1024829  0.10588272]\n",
      " [0.10597449 0.09389122 0.10303958]\n",
      " [0.10324822 0.09267359 0.10638657]] [0.10654172 0.10053093 0.11350368]\n",
      "[[0.10597449 0.09389122 0.10303958]\n",
      " [0.10324822 0.09267359 0.10638657]\n",
      " [0.10654172 0.10053093 0.11350368]] [0.11366308 0.11422136 0.10727711]\n",
      "[[0.10324822 0.09267359 0.10638657]\n",
      " [0.10654172 0.10053093 0.11350368]\n",
      " [0.11366308 0.11422136 0.10727711]] [0.10744057 0.09296704 0.1035515 ]\n",
      "[[0.10654172 0.10053093 0.11350368]\n",
      " [0.11366308 0.11422136 0.10727711]\n",
      " [0.10744057 0.09296704 0.1035515 ]] [0.1037618  0.09852914 0.10987943]\n",
      "[[0.11366308 0.11422136 0.10727711]\n",
      " [0.10744057 0.09296704 0.1035515 ]\n",
      " [0.1037618  0.09852914 0.10987943]] [0.11006491 0.10626303 0.11880234]\n",
      "[[0.10744057 0.09296704 0.1035515 ]\n",
      " [0.1037618  0.09852914 0.10987943]\n",
      " [0.11006491 0.10626303 0.11880234]] [0.11896492 0.10724285 0.11197304]\n",
      "[[0.1037618  0.09852914 0.10987943]\n",
      " [0.11006491 0.10626303 0.11880234]\n",
      " [0.11896492 0.10724285 0.11197304]] [0.11216327 0.09723531 0.10582119]\n",
      "[[0.11006491 0.10626303 0.11880234]\n",
      " [0.11896492 0.10724285 0.11197304]\n",
      " [0.11216327 0.09723531 0.10582119]] [0.10594563 0.09619186 0.10311289]\n",
      "[[0.11896492 0.10724285 0.11197304]\n",
      " [0.11216327 0.09723531 0.10582119]\n",
      " [0.10594563 0.09619186 0.10311289]] [0.10326579 0.09374746 0.10686081]\n",
      "[[0.11216327 0.09723531 0.10582119]\n",
      " [0.10594563 0.09619186 0.10311289]\n",
      " [0.10326579 0.09374746 0.10686081]] [0.10702835 0.09408307 0.10798842]\n",
      "[[0.10594563 0.09619186 0.10311289]\n",
      " [0.10326579 0.09374746 0.10686081]\n",
      " [0.10702835 0.09408307 0.10798842]] [0.1081445  0.10660385 0.11931531]\n",
      "[[0.10326579 0.09374746 0.10686081]\n",
      " [0.10702835 0.09408307 0.10798842]\n",
      " [0.1081445  0.10660385 0.11931531]] [0.11951119 0.10479674 0.11232521]\n",
      "[[0.10702835 0.09408307 0.10798842]\n",
      " [0.1081445  0.10660385 0.11931531]\n",
      " [0.11951119 0.10479674 0.11232521]] [0.11247701 0.12864835 0.13600961]\n",
      "[[0.1081445  0.10660385 0.11931531]\n",
      " [0.11951119 0.10479674 0.11232521]\n",
      " [0.11247701 0.12864835 0.13600961]] [0.13606915 0.1471734  0.15730434]\n",
      "[[0.11951119 0.10479674 0.11232521]\n",
      " [0.11247701 0.12864835 0.13600961]\n",
      " [0.13606915 0.1471734  0.15730434]] [0.15755534 0.14453187 0.1420067 ]\n",
      "[[0.11247701 0.12864835 0.13600961]\n",
      " [0.13606915 0.1471734  0.15730434]\n",
      " [0.15755534 0.14453187 0.1420067 ]] [0.14224826 0.14047755 0.15177725]\n",
      "[[0.13606915 0.1471734  0.15730434]\n",
      " [0.15755534 0.14453187 0.1420067 ]\n",
      " [0.14224826 0.14047755 0.15177725]] [0.15194519 0.14875222 0.15882068]\n",
      "[[0.15755534 0.14453187 0.1420067 ]\n",
      " [0.14224826 0.14047755 0.15177725]\n",
      " [0.15194519 0.14875222 0.15882068]] [0.15898171 0.14650968 0.15304789]\n",
      "[[0.14224826 0.14047755 0.15177725]\n",
      " [0.15194519 0.14875222 0.15882068]\n",
      " [0.15898171 0.14650968 0.15304789]] [0.15316357 0.14268715 0.14863384]\n",
      "[[0.15194519 0.14875222 0.15882068]\n",
      " [0.15898171 0.14650968 0.15304789]\n",
      " [0.15316357 0.14268715 0.14863384]] [0.14878161 0.13803702 0.14830239]\n",
      "[[0.15898171 0.14650968 0.15304789]\n",
      " [0.15316357 0.14268715 0.14863384]\n",
      " [0.14878161 0.13803702 0.14830239]] [0.14840467 0.14103765 0.13801876]\n",
      "[[0.15316357 0.14268715 0.14863384]\n",
      " [0.14878161 0.13803702 0.14830239]\n",
      " [0.14840467 0.14103765 0.13801876]] [0.13829343 0.12970646 0.13961241]\n",
      "[[0.14878161 0.13803702 0.14830239]\n",
      " [0.14840467 0.14103765 0.13801876]\n",
      " [0.13829343 0.12970646 0.13961241]] [0.13974822 0.15569975 0.16919852]\n",
      "[[0.14840467 0.14103765 0.13801876]\n",
      " [0.13829343 0.12970646 0.13961241]\n",
      " [0.13974822 0.15569975 0.16919852]] [0.16930069 0.16315491 0.17347465]\n",
      "[[0.13829343 0.12970646 0.13961241]\n",
      " [0.13974822 0.15569975 0.16919852]\n",
      " [0.16930069 0.16315491 0.17347465]] [0.17372773 0.15996617 0.16223025]\n",
      "[[0.13974822 0.15569975 0.16919852]\n",
      " [0.16930069 0.16315491 0.17347465]\n",
      " [0.17372773 0.15996617 0.16223025]] [0.1623484  0.15078941 0.15201289]\n",
      "[[0.16930069 0.16315491 0.17347465]\n",
      " [0.17372773 0.15996617 0.16223025]\n",
      " [0.1623484  0.15078941 0.15201289]] [0.15212099 0.13858104 0.08693568]\n"
     ]
    }
   ],
   "source": [
    "for i in range(len(train_x)):   \n",
    "    print(train_x[i],train_y[i])\n",
    "\n",
    "# print(train_x[:5],'\\n')\n",
    "# print(train_y[:5])"
   ]
  },
  {
   "cell_type": "markdown",
   "metadata": {
    "id": "QgsZEofzx0vG"
   },
   "source": [
    "### Converting data to three-dimensional or three-channel\n",
    "- The input must be three-dimensional or three-channel, that's why we reshape it\n"
   ]
  },
  {
   "cell_type": "markdown",
   "metadata": {
    "id": "DGBd2Sm4yKyS"
   },
   "source": [
    "### training model"
   ]
  },
  {
   "cell_type": "code",
   "execution_count": 17,
   "metadata": {},
   "outputs": [
    {
     "data": {
      "text/plain": [
       "3"
      ]
     },
     "execution_count": 17,
     "metadata": {},
     "output_type": "execute_result"
    }
   ],
   "source": [
    "n_features = train_x.shape[2]\n",
    "n_features"
   ]
  },
  {
   "cell_type": "code",
   "execution_count": 21,
   "metadata": {
    "colab": {
     "base_uri": "https://localhost:8080/"
    },
    "id": "hGYRpJqdCg86",
    "outputId": "52278661-9db4-474c-e790-fae27c27269d"
   },
   "outputs": [],
   "source": [
    "model = Sequential()\n",
    "#return_sequences: When return_sequences parameter is True, it will output all the hidden states of each time steps\n",
    "model.add(LSTM(120,activation = 'relu', return_sequences=True, input_shape=(n_steps, n_features)))\n",
    "model.add(LSTM(120, activation = 'relu'))   \n",
    "\n",
    "model.add(Dense(n_features)) #n-output  \n",
    "model.compile(optimizer='adam',loss='mse')   "
   ]
  },
  {
   "cell_type": "code",
   "execution_count": 31,
   "metadata": {
    "colab": {
     "base_uri": "https://localhost:8080/"
    },
    "id": "xi8k3qpQDf9b",
    "outputId": "a43337cf-ab8d-4056-8cc9-7af964dbc503"
   },
   "outputs": [
    {
     "name": "stdout",
     "output_type": "stream",
     "text": [
      "Epoch 1/50\n",
      "144/144 [==============================] - 3s 5ms/step - loss: 0.0861\n",
      "Epoch 2/50\n",
      "144/144 [==============================] - 1s 6ms/step - loss: 0.0106\n",
      "Epoch 3/50\n",
      "144/144 [==============================] - 1s 7ms/step - loss: 0.0092\n",
      "Epoch 4/50\n",
      "144/144 [==============================] - 1s 6ms/step - loss: 0.0081\n",
      "Epoch 5/50\n",
      "144/144 [==============================] - 1s 8ms/step - loss: 0.0072\n",
      "Epoch 6/50\n",
      "144/144 [==============================] - 1s 7ms/step - loss: 0.0065\n",
      "Epoch 7/50\n",
      "144/144 [==============================] - 1s 7ms/step - loss: 0.0060\n",
      "Epoch 8/50\n",
      "144/144 [==============================] - 1s 6ms/step - loss: 0.0054\n",
      "Epoch 9/50\n",
      "144/144 [==============================] - 1s 6ms/step - loss: 0.0054\n",
      "Epoch 10/50\n",
      "144/144 [==============================] - 1s 6ms/step - loss: 0.0050\n",
      "Epoch 11/50\n",
      "144/144 [==============================] - 1s 7ms/step - loss: 0.0052\n",
      "Epoch 12/50\n",
      "144/144 [==============================] - 1s 8ms/step - loss: 0.0055\n",
      "Epoch 13/50\n",
      "144/144 [==============================] - 1s 7ms/step - loss: 0.0058\n",
      "Epoch 14/50\n",
      "144/144 [==============================] - 1s 7ms/step - loss: 0.0060\n",
      "Epoch 15/50\n",
      "144/144 [==============================] - 1s 7ms/step - loss: 0.0061\n",
      "Epoch 16/50\n",
      "144/144 [==============================] - 1s 7ms/step - loss: 0.0058\n",
      "Epoch 17/50\n",
      "144/144 [==============================] - 1s 7ms/step - loss: 0.0063\n",
      "Epoch 18/50\n",
      "144/144 [==============================] - 1s 7ms/step - loss: 0.0070\n",
      "Epoch 19/50\n",
      "144/144 [==============================] - 1s 6ms/step - loss: 0.0070\n",
      "Epoch 20/50\n",
      "144/144 [==============================] - 1s 6ms/step - loss: 0.0073\n",
      "Epoch 21/50\n",
      "144/144 [==============================] - 1s 6ms/step - loss: 0.0075\n",
      "Epoch 22/50\n",
      "144/144 [==============================] - 1s 6ms/step - loss: 0.0071\n",
      "Epoch 23/50\n",
      "144/144 [==============================] - 1s 6ms/step - loss: 0.0077\n",
      "Epoch 24/50\n",
      "144/144 [==============================] - 1s 5ms/step - loss: 0.0080\n",
      "Epoch 25/50\n",
      "144/144 [==============================] - 1s 6ms/step - loss: 0.0078\n",
      "Epoch 26/50\n",
      "144/144 [==============================] - 1s 5ms/step - loss: 0.0072\n",
      "Epoch 27/50\n",
      "144/144 [==============================] - 1s 6ms/step - loss: 0.0076\n",
      "Epoch 28/50\n",
      "144/144 [==============================] - 1s 6ms/step - loss: 0.0074\n",
      "Epoch 29/50\n",
      "144/144 [==============================] - 1s 6ms/step - loss: 0.0069\n",
      "Epoch 30/50\n",
      "144/144 [==============================] - 1s 5ms/step - loss: 0.0075\n",
      "Epoch 31/50\n",
      "144/144 [==============================] - 1s 6ms/step - loss: 0.0067\n",
      "Epoch 32/50\n",
      "144/144 [==============================] - 1s 5ms/step - loss: 0.0062\n",
      "Epoch 33/50\n",
      "144/144 [==============================] - 1s 5ms/step - loss: 0.0061\n",
      "Epoch 34/50\n",
      "144/144 [==============================] - 1s 5ms/step - loss: 0.0061\n",
      "Epoch 35/50\n",
      "144/144 [==============================] - 1s 5ms/step - loss: 0.0063\n",
      "Epoch 36/50\n",
      "144/144 [==============================] - 1s 5ms/step - loss: 0.0063\n",
      "Epoch 37/50\n",
      "144/144 [==============================] - 1s 5ms/step - loss: 0.0064\n",
      "Epoch 38/50\n",
      "144/144 [==============================] - 1s 6ms/step - loss: 0.0060\n",
      "Epoch 39/50\n",
      "144/144 [==============================] - 1s 5ms/step - loss: 0.0058\n",
      "Epoch 40/50\n",
      "144/144 [==============================] - 1s 5ms/step - loss: 0.0053\n",
      "Epoch 41/50\n",
      "144/144 [==============================] - 1s 6ms/step - loss: 0.0054\n",
      "Epoch 42/50\n",
      "144/144 [==============================] - 1s 6ms/step - loss: 0.0051\n",
      "Epoch 43/50\n",
      "144/144 [==============================] - 1s 5ms/step - loss: 0.0053\n",
      "Epoch 44/50\n",
      "144/144 [==============================] - 1s 5ms/step - loss: 0.0048\n",
      "Epoch 45/50\n",
      "144/144 [==============================] - 1s 6ms/step - loss: 0.0047\n",
      "Epoch 46/50\n",
      "144/144 [==============================] - 1s 6ms/step - loss: 0.0048\n",
      "Epoch 47/50\n",
      "144/144 [==============================] - 1s 6ms/step - loss: 0.0047\n",
      "Epoch 48/50\n",
      "144/144 [==============================] - 1s 6ms/step - loss: 0.0043\n",
      "Epoch 49/50\n",
      "144/144 [==============================] - 1s 5ms/step - loss: 0.0041\n",
      "Epoch 50/50\n",
      "144/144 [==============================] - 1s 6ms/step - loss: 0.0038\n"
     ]
    },
    {
     "data": {
      "text/plain": [
       "<keras.callbacks.History at 0x7f01452be970>"
      ]
     },
     "execution_count": 31,
     "metadata": {},
     "output_type": "execute_result"
    }
   ],
   "source": [
    "#verbose is the choice that how you want to see the output of your Nural Network while it's training. If you set verbose = 0, It will show nothing\n",
    "model.fit(train_x, train_y, epochs=50, shuffle=False, batch_size=2)"
   ]
  },
  {
   "cell_type": "markdown",
   "metadata": {
    "id": "qAHlVhouysLD"
   },
   "source": [
    "### saving model"
   ]
  },
  {
   "cell_type": "code",
   "execution_count": 32,
   "metadata": {
    "id": "UfTT1orjzPG-"
   },
   "outputs": [
    {
     "name": "stderr",
     "output_type": "stream",
     "text": [
      "WARNING:absl:Found untraced functions such as _update_step_xla while saving (showing 1 of 1). These functions will not be directly callable after loading.\n"
     ]
    },
    {
     "name": "stdout",
     "output_type": "stream",
     "text": [
      "INFO:tensorflow:Assets written to: savedata/assets\n"
     ]
    },
    {
     "name": "stderr",
     "output_type": "stream",
     "text": [
      "INFO:tensorflow:Assets written to: savedata/assets\n"
     ]
    }
   ],
   "source": [
    "model.save('savedata')"
   ]
  },
  {
   "cell_type": "code",
   "execution_count": null,
   "metadata": {
    "colab": {
     "base_uri": "https://localhost:8080/"
    },
    "id": "i8qVa0eIz18z",
    "outputId": "fa169231-15a2-440d-9497-7dd1c1cb99c4"
   },
   "outputs": [],
   "source": [
    "# loading model\n",
    "new_model = tf.keras.models.load_model('savedata')"
   ]
  },
  {
   "cell_type": "markdown",
   "metadata": {
    "id": "elZwPlOFy7qB"
   },
   "source": [
    "### Testing model"
   ]
  },
  {
   "cell_type": "code",
   "execution_count": 33,
   "metadata": {
    "colab": {
     "base_uri": "https://localhost:8080/"
    },
    "id": "2KnPZeVpFMv3",
    "outputId": "26203c0b-b10b-47b6-8777-02bbb2a298d3"
   },
   "outputs": [
    {
     "name": "stdout",
     "output_type": "stream",
     "text": [
      "9/9 [==============================] - 0s 4ms/step\n",
      "3/3 [==============================] - 0s 4ms/step\n"
     ]
    }
   ],
   "source": [
    "predict_train = model.predict(train_x)\n",
    "predict_test = model.predict(test_x)"
   ]
  },
  {
   "cell_type": "code",
   "execution_count": 34,
   "metadata": {},
   "outputs": [
    {
     "name": "stdout",
     "output_type": "stream",
     "text": [
      "predicted y(train): [[0.53084344 0.53590494 0.52209026]\n",
      " [0.53611255 0.5409069  0.5272776 ]\n",
      " [0.54435533 0.54878753 0.5353693 ]\n",
      " [0.54132247 0.54593974 0.53262246]\n",
      " [0.54969597 0.5539436  0.54064786]] \n",
      "\n",
      "real y(train): [[0.65896666 0.66569277 0.66817418]\n",
      " [0.66830256 0.70906931 0.66495802]\n",
      " [0.66487279 0.65638674 0.67398982]\n",
      " [0.67391999 0.68166035 0.69438531]\n",
      " [0.69451282 0.70124277 0.70555529]]\n"
     ]
    }
   ],
   "source": [
    "# print('predicted y(train):', np.reshape(predict_train[:5],-1),'\\n')\n",
    "\n",
    "print('predicted y(train):', predict_train[:5],'\\n')\n",
    "print('real y(train):', train_y[:5])"
   ]
  },
  {
   "cell_type": "code",
   "execution_count": 35,
   "metadata": {},
   "outputs": [
    {
     "data": {
      "text/plain": [
       "(288, 3)"
      ]
     },
     "execution_count": 35,
     "metadata": {},
     "output_type": "execute_result"
    }
   ],
   "source": [
    "predict_train.shape\n",
    "# train_y.shape"
   ]
  },
  {
   "cell_type": "code",
   "execution_count": 36,
   "metadata": {
    "id": "AmOKUDUKFmoB"
   },
   "outputs": [],
   "source": [
    "predict_train = scaler.inverse_transform(predict_train)\n",
    "trainy = scaler.inverse_transform(train_y)\n",
    "\n",
    "predict_test = scaler.inverse_transform(predict_test)\n",
    "testy = scaler.inverse_transform(test_y)"
   ]
  },
  {
   "cell_type": "code",
   "execution_count": 37,
   "metadata": {
    "colab": {
     "base_uri": "https://localhost:8080/"
    },
    "id": "tFKYyVip_UkY",
    "outputId": "fe8b989a-5a09-4483-dde1-b8a9e5a76ec1"
   },
   "outputs": [
    {
     "name": "stdout",
     "output_type": "stream",
     "text": [
      "[[32596.553 33312.93  32326.293]\n",
      " [32763.447 33472.164 32490.617]\n",
      " [33024.535 33723.03  32746.95 ]\n",
      " [32928.47  33632.375 32659.936]\n",
      " [33193.7   33887.168 32914.168]]\n"
     ]
    }
   ],
   "source": [
    "print(predict_train[:5])"
   ]
  },
  {
   "cell_type": "markdown",
   "metadata": {
    "id": "SUDHtIww2Vgu"
   },
   "source": [
    "### creating df and plotting"
   ]
  },
  {
   "cell_type": "code",
   "execution_count": 38,
   "metadata": {
    "colab": {
     "base_uri": "https://localhost:8080/",
     "height": 206
    },
    "id": "-2qmJY0l1ad0",
    "outputId": "7961c493-d6d8-4b00-aec5-04847d2fab57"
   },
   "outputs": [
    {
     "data": {
      "text/html": [
       "<div>\n",
       "<style scoped>\n",
       "    .dataframe tbody tr th:only-of-type {\n",
       "        vertical-align: middle;\n",
       "    }\n",
       "\n",
       "    .dataframe tbody tr th {\n",
       "        vertical-align: top;\n",
       "    }\n",
       "\n",
       "    .dataframe thead th {\n",
       "        text-align: right;\n",
       "    }\n",
       "</style>\n",
       "<table border=\"1\" class=\"dataframe\">\n",
       "  <thead>\n",
       "    <tr style=\"text-align: right;\">\n",
       "      <th></th>\n",
       "      <th>Predicted</th>\n",
       "      <th>real</th>\n",
       "    </tr>\n",
       "  </thead>\n",
       "  <tbody>\n",
       "    <tr>\n",
       "      <th>0</th>\n",
       "      <td>32596.552734</td>\n",
       "      <td>36654.804688</td>\n",
       "    </tr>\n",
       "    <tr>\n",
       "      <th>1</th>\n",
       "      <td>33312.929688</td>\n",
       "      <td>37444.570313</td>\n",
       "    </tr>\n",
       "    <tr>\n",
       "      <th>2</th>\n",
       "      <td>32326.292969</td>\n",
       "      <td>36954.003906</td>\n",
       "    </tr>\n",
       "    <tr>\n",
       "      <th>3</th>\n",
       "      <td>32763.447266</td>\n",
       "      <td>36950.515625</td>\n",
       "    </tr>\n",
       "    <tr>\n",
       "      <th>4</th>\n",
       "      <td>33472.164062</td>\n",
       "      <td>38825.410156</td>\n",
       "    </tr>\n",
       "  </tbody>\n",
       "</table>\n",
       "</div>"
      ],
      "text/plain": [
       "      Predicted          real\n",
       "0  32596.552734  36654.804688\n",
       "1  33312.929688  37444.570313\n",
       "2  32326.292969  36954.003906\n",
       "3  32763.447266  36950.515625\n",
       "4  33472.164062  38825.410156"
      ]
     },
     "execution_count": 38,
     "metadata": {},
     "output_type": "execute_result"
    }
   ],
   "source": [
    "Answer1 = pd.DataFrame({\n",
    "    \"Predicted\": predict_train.ravel(),\n",
    "    \"real\": trainy.ravel()\n",
    "}) \n",
    "Answer1.head()"
   ]
  },
  {
   "cell_type": "code",
   "execution_count": 39,
   "metadata": {
    "colab": {
     "base_uri": "https://localhost:8080/",
     "height": 336
    },
    "id": "wLqR02U4tCOP",
    "outputId": "fa73e3a8-5e70-42a4-d054-504173cea56a"
   },
   "outputs": [
    {
     "data": {
      "image/png": "[encoded data removed]",
      "text/plain": [
       "<Figure size 1000x500 with 1 Axes>"
      ]
     },
     "metadata": {},
     "output_type": "display_data"
    }
   ],
   "source": [
    "#train\n",
    "Answer1.plot(title=\"outcome\", figsize=(10,5));"
   ]
  },
  {
   "cell_type": "code",
   "execution_count": null,
   "metadata": {
    "id": "KDMNKdEQF_Ps"
   },
   "outputs": [],
   "source": [
    "# xx2 = test_x.reshape(-1,1)\n",
    "# xx2 = scaler.inverse_transform(xx2)\n",
    "# xx2[:8]"
   ]
  },
  {
   "cell_type": "code",
   "execution_count": 40,
   "metadata": {
    "colab": {
     "base_uri": "https://localhost:8080/",
     "height": 206
    },
    "id": "JIA6wbWdsnKS",
    "outputId": "9993c731-f5df-4f40-ef04-e67bcccb5b2d"
   },
   "outputs": [
    {
     "data": {
      "text/html": [
       "<div>\n",
       "<style scoped>\n",
       "    .dataframe tbody tr th:only-of-type {\n",
       "        vertical-align: middle;\n",
       "    }\n",
       "\n",
       "    .dataframe tbody tr th {\n",
       "        vertical-align: top;\n",
       "    }\n",
       "\n",
       "    .dataframe thead th {\n",
       "        text-align: right;\n",
       "    }\n",
       "</style>\n",
       "<table border=\"1\" class=\"dataframe\">\n",
       "  <thead>\n",
       "    <tr style=\"text-align: right;\">\n",
       "      <th></th>\n",
       "      <th>Predicted</th>\n",
       "      <th>real</th>\n",
       "    </tr>\n",
       "  </thead>\n",
       "  <tbody>\n",
       "    <tr>\n",
       "      <th>0</th>\n",
       "      <td>19160.041016</td>\n",
       "      <td>16799.722656</td>\n",
       "    </tr>\n",
       "    <tr>\n",
       "      <th>1</th>\n",
       "      <td>19515.759766</td>\n",
       "      <td>16920.765625</td>\n",
       "    </tr>\n",
       "    <tr>\n",
       "      <th>2</th>\n",
       "      <td>19449.345703</td>\n",
       "      <td>16353.365234</td>\n",
       "    </tr>\n",
       "    <tr>\n",
       "      <th>3</th>\n",
       "      <td>19139.945312</td>\n",
       "      <td>16352.028320</td>\n",
       "    </tr>\n",
       "    <tr>\n",
       "      <th>4</th>\n",
       "      <td>19495.234375</td>\n",
       "      <td>17109.324219</td>\n",
       "    </tr>\n",
       "  </tbody>\n",
       "</table>\n",
       "</div>"
      ],
      "text/plain": [
       "      Predicted          real\n",
       "0  19160.041016  16799.722656\n",
       "1  19515.759766  16920.765625\n",
       "2  19449.345703  16353.365234\n",
       "3  19139.945312  16352.028320\n",
       "4  19495.234375  17109.324219"
      ]
     },
     "execution_count": 40,
     "metadata": {},
     "output_type": "execute_result"
    }
   ],
   "source": [
    "Answer2 = pd.DataFrame({\n",
    "    \"Predicted\": predict_test.ravel(),\n",
    "    \"real\": testy.ravel()\n",
    "}) \n",
    "Answer2.head()"
   ]
  },
  {
   "cell_type": "code",
   "execution_count": 41,
   "metadata": {
    "colab": {
     "base_uri": "https://localhost:8080/",
     "height": 336
    },
    "id": "sbFmo7e7KXGS",
    "outputId": "9d3ff0e8-2072-471f-99ec-c968072fb89a"
   },
   "outputs": [
    {
     "data": {
      "image/png": "[encoded data removed]",
      "text/plain": [
       "<Figure size 1000x500 with 1 Axes>"
      ]
     },
     "metadata": {},
     "output_type": "display_data"
    }
   ],
   "source": [
    "#test\n",
    "Answer2.plot(title=\"outcome\", figsize=(10,5));"
   ]
  },
  {
   "cell_type": "markdown",
   "metadata": {
    "id": "xuzekfZ4zHJz"
   },
   "source": [
    "### Evaluate the model"
   ]
  },
  {
   "cell_type": "code",
   "execution_count": 42,
   "metadata": {
    "colab": {
     "base_uri": "https://localhost:8080/"
    },
    "id": "Hi1-xIZhxGOt",
    "outputId": "d0d55190-2fa6-45ee-c9d7-7fe4452dc2d9"
   },
   "outputs": [
    {
     "name": "stdout",
     "output_type": "stream",
     "text": [
      "3/3 [==============================] - 0s 5ms/step - loss: 0.0056\n"
     ]
    },
    {
     "data": {
      "text/plain": [
       "0.0055680531077086926"
      ]
     },
     "execution_count": 42,
     "metadata": {},
     "output_type": "execute_result"
    }
   ],
   "source": [
    "model.evaluate(test_x, test_y)"
   ]
  },
  {
   "cell_type": "code",
   "execution_count": 44,
   "metadata": {
    "colab": {
     "base_uri": "https://localhost:8080/"
    },
    "id": "EkPDtFgDJPwf",
    "outputId": "9ab066c3-37d5-4c48-d237-35a93073194e"
   },
   "outputs": [
    {
     "name": "stdout",
     "output_type": "stream",
     "text": [
      "rmse  4044.349061829224\n",
      "rmse  19427.913084641415\n"
     ]
    }
   ],
   "source": [
    "train_score = math.sqrt(mean_squared_error(trainy,predict_train))\n",
    "print('rmse ', train_score)\n",
    "test_score = math.sqrt(mean_squared_error(test_y,predict_test))\n",
    "print('rmse ', test_score)"
   ]
  },
  {
   "cell_type": "markdown",
   "metadata": {
    "id": "SZm0jQgkB5sY"
   },
   "source": [
    "### new testing\n",
    "- we must change dim"
   ]
  },
  {
   "cell_type": "code",
   "execution_count": 45,
   "metadata": {
    "colab": {
     "base_uri": "https://localhost:8080/"
    },
    "id": "3IWU9p2RA5Zr",
    "outputId": "0cde1f18-d5cb-4113-a63e-cf7aa0237535"
   },
   "outputs": [
    {
     "data": {
      "text/plain": [
       "((70, 3, 3), (70, 3))"
      ]
     },
     "execution_count": 45,
     "metadata": {},
     "output_type": "execute_result"
    }
   ],
   "source": [
    "test_x.shape , test_y.shape"
   ]
  },
  {
   "cell_type": "code",
   "execution_count": 46,
   "metadata": {
    "colab": {
     "base_uri": "https://localhost:8080/"
    },
    "id": "HNmLoQrbkoH0",
    "outputId": "02f960c0-4251-4928-dab8-c329d98688e1"
   },
   "outputs": [
    {
     "name": "stdout",
     "output_type": "stream",
     "text": [
      "(1, 3, 3) \n",
      "\n",
      "[[[0.65318238 0.64195202 0.60744664]\n",
      "  [0.60821794 0.63392596 0.64679689]\n",
      "  [0.64699902 0.65950278 0.65871425]]]\n"
     ]
    }
   ],
   "source": [
    "test_ = array([[0.65318238, 0.64195202, 0.60744664],[0.60821794, 0.63392596, 0.64679689],[0.64699902, 0.65950278, 0.65871425]])\n",
    "test_ = test_.reshape(1,n_steps,n_features)\n",
    "\n",
    "\n",
    "print(test_.shape,'\\n')\n",
    "print(test_)"
   ]
  },
  {
   "cell_type": "code",
   "execution_count": 47,
   "metadata": {
    "colab": {
     "base_uri": "https://localhost:8080/"
    },
    "id": "8rixaWcLHfmM",
    "outputId": "124177f7-9c2d-469d-f471-d2f5b7ddd383"
   },
   "outputs": [
    {
     "name": "stdout",
     "output_type": "stream",
     "text": [
      "1/1 [==============================] - 0s 23ms/step\n"
     ]
    },
    {
     "data": {
      "text/plain": [
       "array([[0.53084344, 0.535905  , 0.52209026]], dtype=float32)"
      ]
     },
     "execution_count": 47,
     "metadata": {},
     "output_type": "execute_result"
    }
   ],
   "source": [
    "y_hat = model.predict(test_)\n",
    "y_hat"
   ]
  },
  {
   "cell_type": "code",
   "execution_count": 48,
   "metadata": {
    "colab": {
     "base_uri": "https://localhost:8080/"
    },
    "id": "SGqmb61mJEuN",
    "outputId": "92ba122b-f152-4b3e-f4c3-caf3c6391bf3"
   },
   "outputs": [
    {
     "data": {
      "text/plain": [
       "array([[32596.553, 33312.934, 32326.293]], dtype=float32)"
      ]
     },
     "execution_count": 48,
     "metadata": {},
     "output_type": "execute_result"
    }
   ],
   "source": [
    "y_hat = scaler.inverse_transform(y_hat)\n",
    "y_hat"
   ]
  }
 ],
 "metadata": {
  "accelerator": "GPU",
  "colab": {
   "provenance": []
  },
  "gpuClass": "standard",
  "kernelspec": {
   "display_name": "Python 3 (ipykernel)",
   "language": "python",
   "name": "python3"
  },
  "language_info": {
   "codemirror_mode": {
    "name": "ipython",
    "version": 3
   },
   "file_extension": ".py",
   "mimetype": "text/x-python",
   "name": "python",
   "nbconvert_exporter": "python",
   "pygments_lexer": "ipython3",
   "version": "3.8.10"
  }
 },
 "nbformat": 4,
 "nbformat_minor": 1
}
